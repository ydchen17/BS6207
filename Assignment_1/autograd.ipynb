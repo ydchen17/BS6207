{
  "nbformat": 4,
  "nbformat_minor": 0,
  "metadata": {
    "colab": {
      "name": "BS6207_Assignment_1.ipynb",
      "provenance": [],
      "collapsed_sections": []
    },
    "kernelspec": {
      "name": "python3",
      "display_name": "Python 3"
    },
    "language_info": {
      "name": "python"
    }
  },
  "cells": [
    {
      "cell_type": "markdown",
      "source": [
        "# Question 1\n",
        "Given a fully connected Neural Network as follows: \n",
        "\n",
        "a. Input (x1,x2,…,xd): d-nodes \n",
        "\n",
        "b. K-hidden fully connected layers with bias of 2d+1 nodes \n",
        "\n",
        "c. Output (predict): 1 node \n",
        "\n",
        "d. Use Relu activation function for all layers \n"
      ],
      "metadata": {
        "id": "NvYwYAfmkv3x"
      }
    },
    {
      "cell_type": "markdown",
      "source": [
        "### 1. Implement this neural network in pytorch (Use K=10,d=10)"
      ],
      "metadata": {
        "id": "fxJt2X0RiqRO"
      }
    },
    {
      "cell_type": "code",
      "source": [
        "# https://pytorch.org/tutorials/recipes/recipes/defining_a_neural_network.html\n",
        "# https://www.cnblogs.com/denny402/p/7593301.html\n",
        "\n",
        "import torch\n",
        "import torch.nn as nn\n",
        "import torch.nn.functional as F\n",
        "import numpy as np\n",
        "\n",
        "class Net(nn.Module):\n",
        "    def __init__(self):\n",
        "      super(Net, self).__init__()\n",
        "      self.layers = nn.Sequential()\n",
        "      # define input layer\n",
        "      self.layers.add_module(\"input\", nn.Linear(10, 21, bias = True))\n",
        "      self.layers.add_module(\"hidden0_relu\", torch.nn.ReLU())\n",
        "      # define fc layers\n",
        "      for i in range(1, 10):\n",
        "        self.layers.add_module(\"hidden\"+str(i)+\"_fc\", nn.Linear(21, 21, bias = True))\n",
        "        self.layers.add_module(\"hidden\"+str(i)+\"_relu\",torch.nn.ReLU())\n",
        "      # output layer\n",
        "      self.layers.add_module(\"output\", nn.Linear(21, 1, bias = True))\n",
        "    def forward(x):\n",
        "      self.layers(x)\n",
        "\n",
        "model = Net()\n",
        "print(model)"
      ],
      "metadata": {
        "colab": {
          "base_uri": "https://localhost:8080/"
        },
        "id": "zlBy7hT1irQu",
        "outputId": "14d0d2c3-946e-43bb-8a47-83cb97901b91"
      },
      "execution_count": 2830,
      "outputs": [
        {
          "output_type": "stream",
          "name": "stdout",
          "text": [
            "Net(\n",
            "  (layers): Sequential(\n",
            "    (input): Linear(in_features=10, out_features=21, bias=True)\n",
            "    (hidden0_relu): ReLU()\n",
            "    (hidden1_fc): Linear(in_features=21, out_features=21, bias=True)\n",
            "    (hidden1_relu): ReLU()\n",
            "    (hidden2_fc): Linear(in_features=21, out_features=21, bias=True)\n",
            "    (hidden2_relu): ReLU()\n",
            "    (hidden3_fc): Linear(in_features=21, out_features=21, bias=True)\n",
            "    (hidden3_relu): ReLU()\n",
            "    (hidden4_fc): Linear(in_features=21, out_features=21, bias=True)\n",
            "    (hidden4_relu): ReLU()\n",
            "    (hidden5_fc): Linear(in_features=21, out_features=21, bias=True)\n",
            "    (hidden5_relu): ReLU()\n",
            "    (hidden6_fc): Linear(in_features=21, out_features=21, bias=True)\n",
            "    (hidden6_relu): ReLU()\n",
            "    (hidden7_fc): Linear(in_features=21, out_features=21, bias=True)\n",
            "    (hidden7_relu): ReLU()\n",
            "    (hidden8_fc): Linear(in_features=21, out_features=21, bias=True)\n",
            "    (hidden8_relu): ReLU()\n",
            "    (hidden9_fc): Linear(in_features=21, out_features=21, bias=True)\n",
            "    (hidden9_relu): ReLU()\n",
            "    (output): Linear(in_features=21, out_features=1, bias=True)\n",
            "  )\n",
            ")\n"
          ]
        }
      ]
    },
    {
      "cell_type": "markdown",
      "source": [
        "\n",
        "### 2. Generate the input data (x1,x2,..xd) in [0,1] drawn from a uniform random distribution "
      ],
      "metadata": {
        "id": "2tQQy-2biVSu"
      }
    },
    {
      "cell_type": "code",
      "source": [
        "# https://pytorch.org/tutorials/beginner/blitz/tensor_tutorial.html\n",
        "# https://stackoverflow.com/questions/44328530/how-to-get-a-uniform-distribution-in-a-range-r1-r2-in-pytorch"
      ],
      "metadata": {
        "id": "gh8cI94lZ2bE"
      },
      "execution_count": 2831,
      "outputs": []
    },
    {
      "cell_type": "code",
      "source": [
        "X = (0 - 1) * torch.rand(10) + 1\n",
        "X"
      ],
      "metadata": {
        "colab": {
          "base_uri": "https://localhost:8080/"
        },
        "id": "FjyHqfOfiVyd",
        "outputId": "5ec9e28b-bcc5-4688-8a9c-e424f4129d53"
      },
      "execution_count": 2832,
      "outputs": [
        {
          "output_type": "execute_result",
          "data": {
            "text/plain": [
              "tensor([0.3025, 0.7411, 0.2502, 0.5824, 0.1498, 0.7468, 0.5463, 0.9406, 0.7144,\n",
              "        0.7387])"
            ]
          },
          "metadata": {},
          "execution_count": 2832
        }
      ]
    },
    {
      "cell_type": "markdown",
      "source": [
        "\n",
        "### 3. Generate the labels y = (x1x1+x2x2+…+xd*xd)/d"
      ],
      "metadata": {
        "id": "VoA9NQAni0tD"
      }
    },
    {
      "cell_type": "code",
      "source": [
        "y = X.pow(2).sum()/2\n",
        "y"
      ],
      "metadata": {
        "id": "vBydCx4SpQRn",
        "colab": {
          "base_uri": "https://localhost:8080/"
        },
        "outputId": "b56bc30f-31ce-4d8e-98fd-c7f8c525dde7"
      },
      "execution_count": 2833,
      "outputs": [
        {
          "output_type": "execute_result",
          "data": {
            "text/plain": [
              "tensor(1.9309)"
            ]
          },
          "metadata": {},
          "execution_count": 2833
        }
      ]
    },
    {
      "cell_type": "markdown",
      "source": [
        "### 4. Implement a loss function L = (predict-y)^2"
      ],
      "metadata": {
        "id": "XSb54_whi3Pm"
      }
    },
    {
      "cell_type": "code",
      "source": [
        "def Loss(predict, y): return (predict - y).pow(2).sum()"
      ],
      "metadata": {
        "id": "vcHKqYz7ap2c"
      },
      "execution_count": 2834,
      "outputs": []
    },
    {
      "cell_type": "markdown",
      "source": [
        "### 5. Use batch size of 1, that means feed data one point at a time into network and compute the loss. Do one time forward propagation with one data point."
      ],
      "metadata": {
        "id": "uhLhB-mAi-QT"
      }
    },
    {
      "cell_type": "code",
      "source": [
        "# https://stackoverflow.com/questions/52241680/pytorch-notimplementederror-in-forward\n",
        "optimizer = torch.optim.SGD(model.layers.parameters(), lr=0.1)\n",
        "optimizer.zero_grad()\n",
        "y_pred = model.layers(X)\n",
        "loss = Loss(y_pred, y)\n",
        "loss.backward()"
      ],
      "metadata": {
        "id": "MBM2nW9riMsH"
      },
      "execution_count": 2835,
      "outputs": []
    },
    {
      "cell_type": "code",
      "source": [
        "print(\"Loss = \" + str(np.round(loss.item(),5)))"
      ],
      "metadata": {
        "colab": {
          "base_uri": "https://localhost:8080/"
        },
        "id": "gGQNPcHE2Dig",
        "outputId": "d484afb3-bf2f-4f27-a05a-11bfd9f26de7"
      },
      "execution_count": 2836,
      "outputs": [
        {
          "output_type": "stream",
          "name": "stdout",
          "text": [
            "Loss = 2.87628\n"
          ]
        }
      ]
    },
    {
      "cell_type": "markdown",
      "source": [
        "### 6. Compute the gradients using pytorch autograd: \n",
        "\n",
        "a. dL/dw, dL/db \n",
        "\n",
        "b. Print these values into a text file: torch_autograd.dat"
      ],
      "metadata": {
        "id": "4vbN-wZWjBne"
      }
    },
    {
      "cell_type": "code",
      "source": [
        "with open(\"torch.autograd.dat\", \"w\") as f:\n",
        "  f.write(\"Loss = \" + str(np.round(loss.item(),5))+\"\\n\")\n",
        "  f.write(\"y_pred: \\n\" + str(np.round(y_pred.tolist(),5))+\"\\n\")\n",
        "\n",
        "  for i in model.layers:\n",
        "    if \"Linear\" in str(i):\n",
        "      f.write(\"\\n\"+str(i)+\"\\n\")\n",
        "      f.write(\"w_gradient: \\n\" + str(np.round(i.weight.grad.tolist(),5))+\"\\n\")\n",
        "      f.write(\"b_gradient: \\n\" + str(np.round(i.bias.grad.tolist(),5))+\"\\n\")"
      ],
      "metadata": {
        "id": "i6jADi_T7vgy"
      },
      "execution_count": 2837,
      "outputs": []
    },
    {
      "cell_type": "markdown",
      "source": [
        "### 7. Implement the forward propagation and backpropagation algorithm from scratch, without using pytorch autograd, compute the gradients using your implementation \n",
        "\n",
        "a. dL/dw, dL/db \n",
        "\n",
        "b. Print these values into a text file: my_autograd.dat"
      ],
      "metadata": {
        "id": "__GXMF_OjEmb"
      }
    },
    {
      "cell_type": "code",
      "source": [
        "# get layer params\n",
        "params=[]\n",
        "for parameter in model.parameters():\n",
        "    params.append(parameter.detach().numpy())\n",
        "\n",
        "w_list, b_list = [], []\n",
        "for i in range(len(params)):\n",
        "  if i % 2 == 0:\n",
        "    w_list.append(params[i])\n",
        "  else: \n",
        "    b_list.append(params[i])"
      ],
      "metadata": {
        "id": "9jLd81ZpGni7"
      },
      "execution_count": 2838,
      "outputs": []
    },
    {
      "cell_type": "code",
      "source": [
        "#[i.shape for i in w_list], [i.shape for i in b_list]"
      ],
      "metadata": {
        "id": "RELSLXWtqZva"
      },
      "execution_count": 2839,
      "outputs": []
    },
    {
      "cell_type": "code",
      "source": [
        "# forward propagation\n",
        "X0 = X.detach().numpy()\n",
        "X_list = []\n",
        "\n",
        "def forward(x, w, b):\n",
        "  return np.dot(w,x)+b\n",
        "\n",
        "def relu(x): \n",
        "  return np.maximum(0.0, x)\n",
        "\n",
        "for i in range(11):\n",
        "  w_now = w_list[i]\n",
        "  b_now = b_list[i]\n",
        "  \n",
        "  if i == 0:\n",
        "    X_now = forward(X.detach().numpy(), w_list[0], b_list[0])\n",
        "    X_now = relu(X_now)\n",
        "    X_list.append(X_now)\n",
        "\n",
        "  elif 0 < i < 10:\n",
        "    X_now = forward(X_now, w_now, b_now)\n",
        "    X_now = relu(X_now)\n",
        "    X_list.append(X_now)\n",
        "\n",
        "  else:\n",
        "    y_result = forward(X_now, w_now, b_now)"
      ],
      "metadata": {
        "id": "iIJoYA1vHIgb"
      },
      "execution_count": 2840,
      "outputs": []
    },
    {
      "cell_type": "code",
      "source": [
        "# [x.shape for x in X_list], len(X_list)"
      ],
      "metadata": {
        "id": "6aXUjrV3pkH0"
      },
      "execution_count": 2841,
      "outputs": []
    },
    {
      "cell_type": "code",
      "source": [
        "len(X_list), len(w_list), len(b_list)"
      ],
      "metadata": {
        "colab": {
          "base_uri": "https://localhost:8080/"
        },
        "id": "kSpUaUG2p2Sl",
        "outputId": "b6146627-6542-4e7c-fe40-24c7935889a1"
      },
      "execution_count": 2842,
      "outputs": [
        {
          "output_type": "execute_result",
          "data": {
            "text/plain": [
              "(10, 11, 11)"
            ]
          },
          "metadata": {},
          "execution_count": 2842
        }
      ]
    },
    {
      "cell_type": "code",
      "source": [
        "X_list[9].shape"
      ],
      "metadata": {
        "colab": {
          "base_uri": "https://localhost:8080/"
        },
        "id": "V8kgPcFpuplh",
        "outputId": "cc6026db-1a63-4b6e-842d-99040dfec98e"
      },
      "execution_count": 2843,
      "outputs": [
        {
          "output_type": "execute_result",
          "data": {
            "text/plain": [
              "(21,)"
            ]
          },
          "metadata": {},
          "execution_count": 2843
        }
      ]
    },
    {
      "cell_type": "code",
      "source": [
        "x_final "
      ],
      "metadata": {
        "colab": {
          "base_uri": "https://localhost:8080/"
        },
        "id": "-ru1KQXcKbnC",
        "outputId": "4245cf73-476e-4c17-b307-c23add579ff1"
      },
      "execution_count": 2844,
      "outputs": [
        {
          "output_type": "execute_result",
          "data": {
            "text/plain": [
              "array([0.23494892], dtype=float32)"
            ]
          },
          "metadata": {},
          "execution_count": 2844
        }
      ]
    },
    {
      "cell_type": "code",
      "source": [
        "# backward propagation\n",
        "\n",
        "def loss_derivative(y_true,y_pred):\n",
        "    return 2*y_true - 2*y_pred\n",
        "\n",
        "# d(loss)\n",
        "dloss = loss_derivative(y_pred, y).detach().numpy()\n",
        "\n",
        "# d(hidden)\n",
        "dw_list = []\n",
        "db_list = [dloss]\n",
        "\n",
        "for i in range(11):\n",
        "  idx = 10 - i\n",
        "  w_now = w_list[idx]\n",
        "  b_now = b_list[idx]\n",
        "\n",
        "  if i == 0:\n",
        "    X_now = X_list[idx-1]\n",
        "    db_now = db_list[0]\n",
        "    dw_now = X_now.reshape(len(X_now), 1) * db_now.reshape(1, len(db_now))\n",
        "    # print(dw_now)\n",
        "\n",
        "    #db_list.insert(0, db_now)\n",
        "    dw_list.insert(0, dw_now)\n",
        "  \n",
        "  if i == 10:\n",
        "    db_previous = db_list[0]\n",
        "    db_now = db_previous @ w_now\n",
        "    db_now[X0<=0] = 0\n",
        "    dw_now = X0.reshape(len(X0), 1) * db_now.reshape(1, len(db_now))\n",
        "    dw_list.insert(0, dw_now)\n",
        "\n",
        "  else:\n",
        "    X_now = X_list[idx-1]\n",
        "    db_previous = db_list[0]\n",
        "    db_now = db_previous @ w_now\n",
        "    db_now[X_now<=0] = 0\n",
        "    dw_now = X_now.reshape(len(X_now), 1) * db_now.reshape(1, len(db_now))\n",
        "  \n",
        "    db_list.insert(0, db_now)\n",
        "    dw_list.insert(0, dw_now)"
      ],
      "metadata": {
        "id": "LTW1D_plg24G"
      },
      "execution_count": 2845,
      "outputs": []
    },
    {
      "cell_type": "code",
      "source": [
        "layer_names = [str(layer) for layer in model.layers if \"Linear\" in str(layer)]\n",
        "layer_names\n",
        "\n",
        "with open(\"my_autograd.dat\", \"w\") as f:\n",
        "  f.write(\"Loss = \" + str(np.round(loss_manual.item(),5))+\"\\n\")\n",
        "  f.write(\"y_pred: \\n\" + str(np.round(y_result,5))+\"\\n\")\n",
        "\n",
        "  for i in range(11):\n",
        "    f.write(\"\\n\"+str(layer_names[i])+\"\\n\")\n",
        "    f.write(\"w_gradient: \\n\" + str(np.round(dw_list[i].tolist(),5))+\"\\n\")\n",
        "    f.write(\"b_gradient: \\n\" + str(np.round(db_list[i].tolist(),5))+\"\\n\")"
      ],
      "metadata": {
        "id": "j2AgOI7ITi2V"
      },
      "execution_count": 2853,
      "outputs": []
    },
    {
      "cell_type": "markdown",
      "source": [
        "### 8. Compare the two files torch_autograd.dat and my_autograd.dat and show that they give the same values up to 5 significant numbers\n",
        "\n",
        "They are the same"
      ],
      "metadata": {
        "id": "69e5PiUQjI1o"
      }
    },
    {
      "cell_type": "markdown",
      "source": [
        "# Question 2\n",
        "\n",
        "Technically, the code makes a CNN with a 1D convolutional (1D-Conv) layer and 2 fully connected layers. torch.randn is used to generate a 1*10 tensor (hence, shape = (1,1,10)) with values sampled from the standard normal distribution, with requirement of gradient calculation.  The data is first fed into the 1D-Conv layer, which has 1 input channel and 1 output channel, and 3 kernels. Another copy of the data is flattened to 1-dimension. The sum of flattened input and convoluted input are made the input of the first fully connected (FC) layer and the output of the first FC layer is made the input of the second FC layer. The output the second FC layer is compared with the sum of the input data to minimize the difference."
      ],
      "metadata": {
        "id": "_S4Thfm_X0mV"
      }
    },
    {
      "cell_type": "code",
      "execution_count": 2851,
      "metadata": {
        "id": "rbSX0y05UPBW",
        "colab": {
          "base_uri": "https://localhost:8080/",
          "height": 1000
        },
        "outputId": "1d7d3d9e-c4eb-45bd-c7ee-e05a0c8db6fe"
      },
      "outputs": [
        {
          "output_type": "stream",
          "name": "stdout",
          "text": [
            "Requirement already satisfied: torchviz in /usr/local/lib/python3.7/dist-packages (0.0.2)\n",
            "Requirement already satisfied: torch in /usr/local/lib/python3.7/dist-packages (from torchviz) (1.10.0+cu111)\n",
            "Requirement already satisfied: graphviz in /usr/local/lib/python3.7/dist-packages (from torchviz) (0.10.1)\n",
            "Requirement already satisfied: typing-extensions in /usr/local/lib/python3.7/dist-packages (from torch->torchviz) (3.10.0.2)\n"
          ]
        },
        {
          "output_type": "execute_result",
          "data": {
            "image/png": "[encoded data removed]",
            "text/plain": [
              "<IPython.core.display.Image object>"
            ]
          },
          "metadata": {},
          "execution_count": 2851
        }
      ],
      "source": [
        "!pip install torchviz\n",
        "import torch\n",
        "import torch.nn as nn\n",
        "from torchviz import make_dot\n",
        "\n",
        "# ======================================================\n",
        "\n",
        "def print_compute_tree(name,node):\n",
        "  dot = make_dot(node)\n",
        "  #print(dot)\n",
        "  dot.render(name, format=\"png\")\n",
        "  dot.render(name, format=\"pdf\")\n",
        "\n",
        "# ======================================================\n",
        "\n",
        "if __name__=='__main__':\n",
        "  torch.manual_seed(2317)\n",
        "  x = torch.randn([1,1,10],requires_grad=True)\n",
        "  cn1 = nn.Conv1d(1,1,3,padding=1)\n",
        "  fc1 = nn.Linear(10,10)\n",
        "  fc2 = nn.Linear(10,1)\n",
        "  y = torch.sum(x)\n",
        "  c = cn1(x)\n",
        "  x = torch.flatten(x)+torch.flatten(c) #x1\n",
        "  x = fc1(x) # x2\n",
        "  x = fc2(x) # x3\n",
        "  loss = torch.sum((x-y)*(x-y))\n",
        "  print_compute_tree('./tree_ex' ,loss)\n",
        "\n",
        "###################################################\n",
        "from IPython.display import Image\n",
        "Image(\"./tree_ex.png\")"
      ]
    }
  ]
}