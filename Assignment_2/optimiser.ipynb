{
  "nbformat": 4,
  "nbformat_minor": 0,
  "metadata": {
    "colab": {
      "name": "BS6207 Assignment 2 (Optimiser).ipynb",
      "provenance": []
    },
    "kernelspec": {
      "name": "python3",
      "display_name": "Python 3"
    },
    "language_info": {
      "name": "python"
    }
  },
  "cells": [
    {
      "cell_type": "markdown",
      "source": [
        "# Question 1"
      ],
      "metadata": {
        "id": "-KwXXbxXKlKC"
      }
    },
    {
      "cell_type": "markdown",
      "source": [
        ""
      ],
      "metadata": {
        "id": "2GkoXEk4EtRW"
      }
    },
    {
      "cell_type": "code",
      "execution_count": null,
      "metadata": {
        "colab": {
          "base_uri": "https://localhost:8080/"
        },
        "id": "w2SqVH50KkrN",
        "outputId": "8a84344c-8550-41b3-9633-370f7b409950"
      },
      "outputs": [
        {
          "output_type": "stream",
          "name": "stdout",
          "text": [
            "0.41019999999998785\n"
          ]
        }
      ],
      "source": [
        "import numpy as np\n",
        "def de_function(x, h):\n",
        "    if x<1:\n",
        "      return -1\n",
        "    elif 1<x< (1+h): \n",
        "      return 1\n",
        "    elif (1+h)< x<(1+2*h): \n",
        "      return -1\n",
        "    else: \n",
        "      return -0.3\n",
        "\n",
        "def find_h(derivative, n_iter, alpha, beta1, beta2, eps=0):\n",
        "    for h in np.arange(0.3,1,0.0001):        \n",
        "        x = 0\n",
        "        m = 0.0\n",
        "        v = 0.0                   \n",
        "        for t in range(1,n_iter):  \n",
        "            g = de_function(x,h)   \n",
        "            m = beta1 * m + (1 - beta1) * g               \n",
        "            v = beta2 * v + (1 - beta2) * g**2 \n",
        "            mhat = m / (1.0 - beta1**t)          \n",
        "            vhat = v / (1.0 - beta2**t)\n",
        "            x = x - alpha * mhat / (vhat**0.5 + eps)      \n",
        "            if x>(1+h):\n",
        "              break\n",
        "        if x<(1+h):\n",
        "            print(h)\n",
        "            break  \n",
        "            \n",
        "n_iter = 10000\n",
        "alpha = 0.3\n",
        "beta1 = 0.9\n",
        "beta2 = 0.999\n",
        "eps = 0\n",
        "find_h(de_function, n_iter, alpha, beta1, beta2)   "
      ]
    }
  ]
}