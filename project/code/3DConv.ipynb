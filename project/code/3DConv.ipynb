{
  "cells": [
    {
      "cell_type": "code",
      "execution_count": 32,
      "id": "NWABF6Mk3Fxt",
      "metadata": {
        "colab": {
          "base_uri": "https://localhost:8080/"
        },
        "id": "NWABF6Mk3Fxt",
        "outputId": "d38c17b1-8a79-4bbd-91c9-a78b521f2da2"
      },
      "outputs": [
        {
          "name": "stdout",
          "output_type": "stream",
          "text": [
            "Drive already mounted at /content/drive; to attempt to forcibly remount, call drive.mount(\"/content/drive\", force_remount=True).\n"
          ]
        }
      ],
      "source": [
        "from google.colab import drive\n",
        "drive.mount('/content/drive')"
      ]
    },
    {
      "cell_type": "code",
      "execution_count": 53,
      "id": "faecfda8",
      "metadata": {
        "id": "faecfda8"
      },
      "outputs": [],
      "source": [
        "import numpy as np\n",
        "import os\n",
        "import matplotlib.pyplot as plt\n",
        "import random\n",
        "from tqdm import tqdm, trange"
      ]
    },
    {
      "cell_type": "code",
      "execution_count": 34,
      "id": "soiacOozzlMc",
      "metadata": {
        "colab": {
          "base_uri": "https://localhost:8080/"
        },
        "id": "soiacOozzlMc",
        "outputId": "b297a2b0-db6f-424c-dfb7-e5bb67540e8b"
      },
      "outputs": [
        {
          "name": "stdout",
          "output_type": "stream",
          "text": [
            "  % Total    % Received % Xferd  Average Speed   Time    Time     Time  Current\n",
            "                                 Dload  Upload   Total   Spent    Left  Speed\n",
            "100 89.0M  100 89.0M    0     0  4340k      0  0:00:21  0:00:21 --:--:-- 12.4M\n",
            "Archive:  project.zip\n",
            "replace project/training_data/2972_lig_cg.pdb? [y]es, [n]o, [A]ll, [N]one, [r]ename: N\n"
          ]
        }
      ],
      "source": [
        "!curl -O https://noname-1256719566.cos.ap-nanjing.myqcloud.com/project.zip\n",
        "!unzip project.zip"
      ]
    },
    {
      "cell_type": "code",
      "execution_count": 35,
      "id": "9bdedd07",
      "metadata": {
        "id": "9bdedd07"
      },
      "outputs": [],
      "source": [
        "def read_pdb(filename):\n",
        "    with open(filename, 'r') as file:\n",
        "        strline_L = file.readlines()\n",
        "\n",
        "    X_list = list()\n",
        "    Y_list = list()\n",
        "    Z_list = list()\n",
        "    atomtype_list = list()\n",
        "    for strline in strline_L:\n",
        "        # removes all whitespace at the start and end, including spaces, tabs, newlines and carriage returns\n",
        "        stripped_line = strline.strip()\n",
        "\n",
        "        line_length = len(stripped_line)\n",
        "        # print(\"Line length:{}\".format(line_length))\n",
        "        if line_length < 78:\n",
        "            print(\"ERROR: line length is different. Expected>=78, current={}\".format(line_length))\n",
        "            \n",
        "        X_list.append(float(stripped_line[30:38].strip()))\n",
        "        Y_list.append(float(stripped_line[38:46].strip()))\n",
        "        Z_list.append(float(stripped_line[46:54].strip()))\n",
        "\n",
        "        atomtype = stripped_line[76:78].strip()\n",
        "        if atomtype == 'C':\n",
        "            atomtype_list.append(0) # 'h' means hydrophobic\n",
        "        else:\n",
        "            atomtype_list.append(1) # 'p' means polar\n",
        "    X_list = np.array(X_list)[:,np.newaxis]\n",
        "    Y_list = np.array(Y_list)[:,np.newaxis]\n",
        "    Z_list = np.array(Z_list)[:,np.newaxis]\n",
        "    atomtype_list = np.array(atomtype_list)\n",
        "    pos = np.concatenate([X_list, Y_list,Z_list],axis=1)\n",
        "    return pos, atomtype_list"
      ]
    },
    {
      "cell_type": "code",
      "execution_count": 36,
      "id": "0A6caIZWWK0f",
      "metadata": {
        "id": "0A6caIZWWK0f"
      },
      "outputs": [],
      "source": [
        "OFFSET = np.array([100,100,100])\n",
        "CUBE_CENTER = 128\n",
        "CUBE_SIZE = 256\n",
        "RESCALE_CUBE_SIZE = 32\n",
        "RESCALE = 8\n",
        "NEG_SAMPLE_RATIO = 2"
      ]
    },
    {
      "cell_type": "code",
      "execution_count": 37,
      "id": "59378453",
      "metadata": {
        "id": "59378453"
      },
      "outputs": [],
      "source": [
        "def trim_rescale_pos(pos):\n",
        "    rescaled_pos = []\n",
        "    for i in range(3):\n",
        "        pos_rescale = int(pos[i] / RESCALE)\n",
        "        pos_rescale = 0 if pos_rescale <0 else pos_rescale\n",
        "        pos_rescale = RESCALE_CUBE_SIZE - 1 if pos_rescale >=RESCALE_CUBE_SIZE else pos_rescale\n",
        "        rescaled_pos.append(pos_rescale)\n",
        "    return rescaled_pos\n",
        "\n",
        "def normalize(pro_pos, pro_atom, lig_pos, lig_atom):\n",
        "    cube_center = np.array([CUBE_CENTER,CUBE_CENTER,CUBE_CENTER])\n",
        "    lig_pos_mean = np.mean(lig_pos, axis=0)\n",
        "    lig_pos = cube_center + lig_pos - lig_pos_mean\n",
        "    pro_pos = cube_center + pro_pos - lig_pos_mean\n",
        "\n",
        "    lig_pos_cube = np.zeros([RESCALE_CUBE_SIZE,RESCALE_CUBE_SIZE,RESCALE_CUBE_SIZE])\n",
        "    pro_pos_cube = np.zeros([RESCALE_CUBE_SIZE,RESCALE_CUBE_SIZE,RESCALE_CUBE_SIZE])\n",
        "    \n",
        "    for pos_iter, atom_iter in zip(pro_pos, pro_atom):\n",
        "        x,y,z = trim_rescale_pos(pos_iter)\n",
        "        if atom_iter == 1:\n",
        "            pro_pos_cube[x,y,z] = 1.0\n",
        "        else:\n",
        "            pro_pos_cube[x,y,z] = -1.0\n",
        "    for pos_iter, atom_iter in zip(lig_pos, lig_atom):  \n",
        "        x,y,z = trim_rescale_pos(pos_iter)\n",
        "        if atom_iter == 1:\n",
        "            lig_pos_cube[x,y,z] = 1.0\n",
        "        else:\n",
        "            lig_pos_cube[x,y,z] = -1.0    \n",
        "    \n",
        "    return pro_pos_cube, lig_pos_cube\n",
        "\n",
        "def generate_pair_sample(pro_file, lig_file):\n",
        "    pro_pos, pro_atom = read_pdb(pro_file)\n",
        "    lig_pos, lig_atom = read_pdb(lig_file)\n",
        "    pro_pos_cube, lig_pos_cube =  normalize(pro_pos, pro_atom, lig_pos, lig_atom)\n",
        "    return np.stack([pro_pos_cube, lig_pos_cube],axis=3 )\n",
        "\n",
        "def construct_samples(data_dir):\n",
        "    pos_samples = []\n",
        "    neg_samples = []\n",
        "    pro_file_names = []\n",
        "    lig_file_names = []\n",
        "    for file in os.listdir(data_dir):\n",
        "        file_name = os.path.join(data_dir, file)\n",
        "        if \"lig\" in file_name:\n",
        "            lig_file_names.append(file_name)\n",
        "        else:\n",
        "            pro_file_names.append(file_name)\n",
        "    \n",
        "    lig_file_names.sort()\n",
        "    pro_file_names.sort()\n",
        "    \n",
        "    assert len(pro_file_names) == len(lig_file_names)\n",
        "    file_size = len(pro_file_names)\n",
        "    for i in trange(file_size):\n",
        "        pro_file = pro_file_names[i]\n",
        "        pos_lig_file = lig_file_names[i]\n",
        "        \n",
        "        #create positive pair\n",
        "        pos_sample = generate_pair_sample(pro_file, pos_lig_file)\n",
        "        pos_samples.append(pos_sample)\n",
        "        \n",
        "        #create negative pair\n",
        "        randomlist = random.sample(range(0, file_size), NEG_SAMPLE_RATIO)\n",
        "        for neg_idx in randomlist:\n",
        "            if neg_idx == i:\n",
        "                continue\n",
        "            neg_lig_file = lig_file_names[neg_idx]\n",
        "            neg_samples.append(generate_pair_sample(pro_file, neg_lig_file))\n",
        "    return pos_samples, neg_samples"
      ]
    },
    {
      "cell_type": "code",
      "execution_count": null,
      "id": "f23d9684",
      "metadata": {
        "id": "f23d9684"
      },
      "outputs": [],
      "source": [
        "pos_samples, neg_samples = construct_samples(\"project/training_data\")"
      ]
    },
    {
      "cell_type": "code",
      "execution_count": 47,
      "id": "f4b09e83",
      "metadata": {
        "colab": {
          "base_uri": "https://localhost:8080/",
          "height": 1000
        },
        "id": "f4b09e83",
        "outputId": "f991f30d-218c-46cb-8e92-cdfb6d2af8dc"
      },
      "outputs": [
        {
          "name": "stdout",
          "output_type": "stream",
          "text": [
            "(None, 30, 30, 30, 32)\n",
            "(None, 15, 15, 15, 32)\n",
            "(None, 13, 13, 13, 16)\n",
            "(None, 6, 6, 6, 16)\n",
            "(None, 4, 4, 4, 16)\n",
            "(None, 2, 2, 2, 16)\n",
            "(None, 128)\n",
            "Model: \"model_8\"\n",
            "_________________________________________________________________\n",
            " Layer (type)                Output Shape              Param #   \n",
            "=================================================================\n",
            " input_9 (InputLayer)        [(None, 32, 32, 32, 2)]   0         \n",
            "                                                                 \n",
            " conv3d_24 (Conv3D)          (None, 30, 30, 30, 32)    1760      \n",
            "                                                                 \n",
            " max_pooling3d_24 (MaxPoolin  (None, 15, 15, 15, 32)   0         \n",
            " g3D)                                                            \n",
            "                                                                 \n",
            " conv3d_25 (Conv3D)          (None, 13, 13, 13, 16)    13840     \n",
            "                                                                 \n",
            " max_pooling3d_25 (MaxPoolin  (None, 6, 6, 6, 16)      0         \n",
            " g3D)                                                            \n",
            "                                                                 \n",
            " conv3d_26 (Conv3D)          (None, 4, 4, 4, 16)       6928      \n",
            "                                                                 \n",
            " max_pooling3d_26 (MaxPoolin  (None, 2, 2, 2, 16)      0         \n",
            " g3D)                                                            \n",
            "                                                                 \n",
            " flatten_1 (Flatten)         (None, 128)               0         \n",
            "                                                                 \n",
            " dense_8 (Dense)             (None, 1)                 129       \n",
            "                                                                 \n",
            "=================================================================\n",
            "Total params: 22,657\n",
            "Trainable params: 22,657\n",
            "Non-trainable params: 0\n",
            "_________________________________________________________________\n"
          ]
        },
        {
          "data": {
            "image/png": "[encoded data removed]",
            "text/plain": [
              "<IPython.core.display.Image object>"
            ]
          },
          "execution_count": 47,
          "metadata": {},
          "output_type": "execute_result"
        }
      ],
      "source": [
        "from keras.layers import Conv3D,Input, MaxPooling3D, Flatten, Dense\n",
        "from keras.models import Model\n",
        "from tensorflow.keras.utils import plot_model\n",
        "\n",
        "img = Input(shape=[RESCALE_CUBE_SIZE, RESCALE_CUBE_SIZE, RESCALE_CUBE_SIZE, 2])\n",
        "\n",
        "x = Conv3D(filters=32, kernel_size=(3,3,3))(img)\n",
        "print(x.shape)\n",
        "x = MaxPooling3D()(x)\n",
        "print(x.shape)\n",
        "x = Conv3D(filters=16, kernel_size=(3,3,3))(x)\n",
        "print(x.shape)\n",
        "x = MaxPooling3D()(x)\n",
        "print(x.shape)\n",
        "x = Conv3D(filters=16, kernel_size=(3,3,3))(x)\n",
        "print(x.shape)\n",
        "x = MaxPooling3D()(x)\n",
        "print(x.shape)\n",
        "x = Flatten()(x)\n",
        "print(x.shape)\n",
        "output = Dense(1, activation='sigmoid')(x)\n",
        "model = Model(inputs=img, outputs=output)\n",
        "model.compile(optimizer='adam',\n",
        "              loss='binary_crossentropy',\n",
        "              metrics=['accuracy'])\n",
        "model.summary()\n",
        "plot_model(model)"
      ]
    },
    {
      "cell_type": "code",
      "execution_count": 40,
      "id": "e6ddfb24",
      "metadata": {
        "id": "e6ddfb24"
      },
      "outputs": [],
      "source": [
        "X = pos_samples + neg_samples\n",
        "Y = [1 for _ in range(len(pos_samples))] + [0 for _ in range(len(neg_samples))]\n",
        "X = np.array(X)\n",
        "Y = np.array(Y)"
      ]
    },
    {
      "cell_type": "code",
      "execution_count": 41,
      "id": "705074ee",
      "metadata": {
        "id": "705074ee"
      },
      "outputs": [],
      "source": [
        "from sklearn.model_selection import train_test_split"
      ]
    },
    {
      "cell_type": "code",
      "execution_count": 42,
      "id": "627eda61",
      "metadata": {
        "id": "627eda61"
      },
      "outputs": [],
      "source": [
        "X_train, X_test, y_train, y_test = train_test_split(X, Y, test_size=0.33, random_state=42)"
      ]
    },
    {
      "cell_type": "code",
      "execution_count": 45,
      "id": "9swQicKb3fld",
      "metadata": {
        "id": "9swQicKb3fld"
      },
      "outputs": [],
      "source": [
        "from keras.callbacks import ModelCheckpoint\n",
        "model_checkpoint_callback = ModelCheckpoint(\n",
        "    filepath='/content/drive/MyDrive/BS6207/project_backup/best_model.h5',\n",
        "    save_weights_only=True,\n",
        "    monitor='val_accuracy',\n",
        "    mode='max',\n",
        "    save_best_only=True)"
      ]
    },
    {
      "cell_type": "code",
      "execution_count": null,
      "id": "739ab2a8",
      "metadata": {
        "colab": {
          "base_uri": "https://localhost:8080/",
          "height": 919
        },
        "id": "739ab2a8",
        "outputId": "367af449-8441-4217-bf35-f42262ff06df"
      },
      "outputs": [],
      "source": [
        "history = model.fit(X_train, y_train, epochs=20, batch_size=64, validation_data=[X_test, y_test], callbacks=[model_checkpoint_callback])"
      ]
    },
    {
      "cell_type": "code",
      "execution_count": null,
      "id": "XExRX9jmBkor",
      "metadata": {
        "colab": {
          "base_uri": "https://localhost:8080/",
          "height": 184
        },
        "id": "XExRX9jmBkor",
        "outputId": "b2e3813f-9e8d-45a0-8793-0f86c3f35082"
      },
      "outputs": [],
      "source": [
        "import time \n",
        "while True: time.sleep(10000)"
      ]
    },
    {
      "cell_type": "code",
      "execution_count": null,
      "id": "6b739ba5",
      "metadata": {
        "colab": {
          "background_save": true
        },
        "id": "6b739ba5",
        "outputId": "71090da6-f69d-48f2-fd29-965eb9b77650"
      },
      "outputs": [
        {
          "data": {
            "image/png": "[encoded data removed]",
            "text/plain": [
              "<Figure size 432x288 with 1 Axes>"
            ]
          },
          "metadata": {},
          "output_type": "display_data"
        }
      ],
      "source": [
        "plt.plot(history.history['accuracy'])\n",
        "plt.plot(history.history['val_accuracy'])\n",
        "plt.title('model accuracy')\n",
        "plt.ylabel('accuracy')\n",
        "plt.xlabel('epoch')\n",
        "plt.legend(['train', 'test'], loc='upper left')\n",
        "plt.show()"
      ]
    },
    {
      "cell_type": "code",
      "execution_count": null,
      "id": "078a48e9",
      "metadata": {
        "colab": {
          "background_save": true
        },
        "id": "078a48e9",
        "outputId": "7e594e0e-e62d-4821-a990-de58e431e928"
      },
      "outputs": [
        {
          "data": {
            "image/png": "[encoded data removed]",
            "text/plain": [
              "<Figure size 432x288 with 1 Axes>"
            ]
          },
          "metadata": {},
          "output_type": "display_data"
        }
      ],
      "source": [
        "plt.plot(history.history['loss'])\n",
        "plt.plot(history.history['val_loss'])\n",
        "plt.title('model loss')\n",
        "plt.ylabel('loss')\n",
        "plt.xlabel('epoch')\n",
        "plt.legend(['train', 'test'], loc='upper left')\n",
        "plt.show()"
      ]
    },
    {
      "cell_type": "code",
      "execution_count": 74,
      "id": "APX0dHPjDGEZ",
      "metadata": {
        "id": "APX0dHPjDGEZ"
      },
      "outputs": [],
      "source": [
        "#inference\n",
        "lig_file_names = []\n",
        "pro_file_names = []\n",
        "test_dir = \"testing_data_release/testing_data\"\n",
        "for file in os.listdir(test_dir):\n",
        "    file_name = os.path.join(test_dir, file)\n",
        "    if \"lig\" in file_name:\n",
        "        lig_file_names.append(file_name)\n",
        "    else:\n",
        "        pro_file_names.append(file_name)\n",
        "    \n",
        "lig_file_names.sort()\n",
        "pro_file_names.sort()\n",
        "\n",
        "pro_pos_list = []\n",
        "pro_atom_list = []\n",
        "lig_pos_list = []\n",
        "lig_atom_list = []\n",
        "for file in pro_file_names:\n",
        "    pro_pos, pro_atom = read_pdb_for_test(file)\n",
        "    pro_pos_list.append(pro_pos)\n",
        "    pro_atom_list.append(pro_atom)\n",
        "\n",
        "for file in lig_file_names:\n",
        "    lig_pos, lig_atom = read_pdb_for_test(file)\n",
        "    lig_pos_list.append(lig_pos)\n",
        "    lig_atom_list.append(lig_atom)\n",
        "\n",
        "def construct_inference_data(pro_pos, pro_atom, lig_pos_list, lig_atom_list):\n",
        "    batch_data = []\n",
        "    for lig_pos,lig_atom in zip(lig_pos_list, lig_atom_list):\n",
        "        batch_data.append(generate_pair_sample_for_test(pro_pos,pro_atom,lig_pos,lig_atom))\n",
        "    return batch_data\n",
        "\n",
        "def read_pdb_for_test(filename):\n",
        "    with open(filename, 'r') as file:\n",
        "        strline_L = file.readlines()\n",
        "\n",
        "    X_list = list()\n",
        "    Y_list = list()\n",
        "    Z_list = list()\n",
        "    atomtype_list = list()\n",
        "    for strline in strline_L:\n",
        "        # removes all whitespace at the start and end, including spaces, tabs, newlines and carriage returns\n",
        "        stripped_line = strline.strip()\n",
        "        parts = stripped_line.split(\"\\t\")\n",
        "        \n",
        "        X_list.append(float(parts[0]))\n",
        "        Y_list.append(float(parts[1]))\n",
        "        Z_list.append(float(parts[2]))\n",
        "\n",
        "        atomtype = parts[3].strip()\n",
        "        if atomtype == 'h':\n",
        "            atomtype_list.append(0) # 'h' means hydrophobic\n",
        "        else:\n",
        "            atomtype_list.append(1) # 'p' means polar\n",
        "    X_list = np.array(X_list)[:,np.newaxis]\n",
        "    Y_list = np.array(Y_list)[:,np.newaxis]\n",
        "    Z_list = np.array(Z_list)[:,np.newaxis]\n",
        "    atomtype_list = np.array(atomtype_list)\n",
        "    pos = np.concatenate([X_list, Y_list,Z_list],axis=1)\n",
        "    return pos, atomtype_list\n",
        "    \n",
        "\n",
        "def generate_pair_sample_for_test(pro_pos,pro_atom,lig_pos,lig_atom):\n",
        "    pro_pos_cube, lig_pos_cube =  normalize(pro_pos, pro_atom, lig_pos, lig_atom)\n",
        "    return np.stack([pro_pos_cube, lig_pos_cube],axis=3 )\n"
      ]
    },
    {
      "cell_type": "code",
      "execution_count": 76,
      "id": "3Ugc5NOkD9le",
      "metadata": {
        "id": "3Ugc5NOkD9le"
      },
      "outputs": [],
      "source": [
        "results = []\n",
        "for idx in range(len(pro_pos_list)):\n",
        "    if idx % 50 == 0:\n",
        "        print(\"processed \" , idx + 1);\n",
        "    pro_pos = pro_pos_list[idx]\n",
        "    pro_atom = pro_atom_list[idx]\n",
        "    batch_data = construct_inference_data(pro_pos,pro_atom,lig_pos_list, lig_atom_list)\n",
        "    res = model.predict(np.array(batch_data))\n",
        "    results.append(np.argsort(-res.flatten())[0:10])"
      ]
    },
    {
      "cell_type": "code",
      "execution_count": 77,
      "id": "EvRc1M8xDhBu",
      "metadata": {
        "id": "EvRc1M8xDhBu"
      },
      "outputs": [],
      "source": [
        "with open(\"prediction.txt\", \"w\") as f:\n",
        "    f.write(\"pro_id\\t\")\n",
        "    lig_strs = [\"lig{}_id\".format(idx+1) for idx in range(10)]\n",
        "    f.write(\"\\t\".join(lig_strs))\n",
        "    f.write(\"\\n\")\n",
        "    for idx,result in enumerate(results):\n",
        "        f.write(\"{}\\t\".format(idx+1))\n",
        "        result_list = result.tolist()\n",
        "        result_str = [str(f+1) for f in result_list]\n",
        "        result_str = \"\\t\".join(result_str)\n",
        "        f.write(result_str)\n",
        "        if idx != len(results) -1 :\n",
        "            f.write(\"\\n\")"
      ]
    }
  ],
  "metadata": {
    "accelerator": "TPU",
    "colab": {
      "background_execution": "on",
      "machine_shape": "hm",
      "name": "project_simple.ipynb",
      "provenance": []
    },
    "kernelspec": {
      "display_name": "Python 3 (ipykernel)",
      "language": "python",
      "name": "python3"
    },
    "language_info": {
      "codemirror_mode": {
        "name": "ipython",
        "version": 3
      },
      "file_extension": ".py",
      "mimetype": "text/x-python",
      "name": "python",
      "nbconvert_exporter": "python",
      "pygments_lexer": "ipython3",
      "version": "3.9.7"
    }
  },
  "nbformat": 4,
  "nbformat_minor": 5
}
