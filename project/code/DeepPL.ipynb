{
  "cells": [
    {
      "cell_type": "markdown",
      "metadata": {
        "id": "kPfASqjPXwvg"
      },
      "source": [
        "# Initialization"
      ]
    },
    {
      "cell_type": "code",
      "execution_count": null,
      "metadata": {
        "colab": {
          "base_uri": "https://localhost:8080/"
        },
        "id": "bLMV4Sl9PQzh",
        "outputId": "23592c9c-a541-4f84-d5d2-bea0b5aee1c9"
      },
      "outputs": [
        {
          "name": "stdout",
          "output_type": "stream",
          "text": [
            "Mounted at /content/drive\n"
          ]
        }
      ],
      "source": [
        "from google.colab import drive\n",
        "drive.mount('/content/drive')"
      ]
    },
    {
      "cell_type": "markdown",
      "metadata": {
        "id": "mNRBIHV3ec3z"
      },
      "source": [
        "## Tensorboard support"
      ]
    },
    {
      "cell_type": "code",
      "execution_count": null,
      "metadata": {
        "colab": {
          "background_save": true,
          "base_uri": "https://localhost:8080/"
        },
        "id": "bzSOwzBRwMgS",
        "outputId": "cd9a9a9d-5746-4f31-eade-bd4527924f19"
      },
      "outputs": [
        {
          "name": "stdout",
          "output_type": "stream",
          "text": [
            "--2022-02-03 13:51:18--  https://bin.equinox.io/c/4VmDzA7iaHb/ngrok-stable-linux-amd64.zip\n",
            "Resolving bin.equinox.io (bin.equinox.io)... 54.237.133.81, 18.205.222.128, 54.161.241.46, ...\n",
            "Connecting to bin.equinox.io (bin.equinox.io)|54.237.133.81|:443... connected.\n",
            "HTTP request sent, awaiting response... 200 OK\n",
            "Length: 13832437 (13M) [application/octet-stream]\n",
            "Saving to: ‘ngrok-stable-linux-amd64.zip.1’\n",
            "\n",
            "ngrok-stable-linux- 100%[===================>]  13.19M  36.7MB/s    in 0.4s    \n",
            "\n",
            "2022-02-03 13:51:18 (36.7 MB/s) - ‘ngrok-stable-linux-amd64.zip.1’ saved [13832437/13832437]\n",
            "\n",
            "Archive:  ngrok-stable-linux-amd64.zip\n",
            "replace ngrok? [y]es, [n]o, [A]ll, [N]one, [r]ename: "
          ]
        }
      ],
      "source": [
        "!wget https://bin.equinox.io/c/4VmDzA7iaHb/ngrok-stable-linux-amd64.zip\n",
        "!unzip ngrok-stable-linux-amd64.zip"
      ]
    },
    {
      "cell_type": "code",
      "execution_count": null,
      "metadata": {
        "colab": {
          "background_save": true
        },
        "id": "rW2Sa5q9wPPs",
        "outputId": "94cc90a7-a4c7-4d79-8c3c-a781b53c0c7a"
      },
      "outputs": [
        {
          "name": "stdout",
          "output_type": "stream",
          "text": [
            "Traceback (most recent call last):\n",
            "  File \"<string>\", line 1, in <module>\n",
            "  File \"/usr/lib/python3.7/json/__init__.py\", line 296, in load\n",
            "    parse_constant=parse_constant, object_pairs_hook=object_pairs_hook, **kw)\n",
            "  File \"/usr/lib/python3.7/json/__init__.py\", line 348, in loads\n",
            "    return _default_decoder.decode(s)\n",
            "  File \"/usr/lib/python3.7/json/decoder.py\", line 337, in decode\n",
            "    obj, end = self.raw_decode(s, idx=_w(s, 0).end())\n",
            "  File \"/usr/lib/python3.7/json/decoder.py\", line 355, in raw_decode\n",
            "    raise JSONDecodeError(\"Expecting value\", s, err.value) from None\n",
            "json.decoder.JSONDecodeError: Expecting value: line 1 column 1 (char 0)\n"
          ]
        },
        {
          "name": "stderr",
          "output_type": "stream",
          "text": [
            "\n",
            "KeyboardInterrupt\n",
            "\n"
          ]
        }
      ],
      "source": [
        "LOG_DIR = './logs'\n",
        "get_ipython().system_raw(\n",
        "    'tensorboard --logdir {} --host 0.0.0.0 --port 6006 &'\n",
        "    .format(LOG_DIR)\n",
        ")\n",
        "get_ipython().system_raw('./ngrok http 6006 &')\n",
        "! curl -s http://localhost:4040/api/tunnels | python3 -c \\\n",
        "    \"import sys, json; print(json.load(sys.stdin)['tunnels'][0]['public_url'])\""
      ]
    },
    {
      "cell_type": "markdown",
      "metadata": {
        "id": "laof22xr8JND"
      },
      "source": [
        "## Perform imports"
      ]
    },
    {
      "cell_type": "code",
      "execution_count": null,
      "metadata": {
        "colab": {
          "background_save": true
        },
        "id": "d-PD_PYUwyA5"
      },
      "outputs": [],
      "source": [
        "#!pip install tensorflow_addons"
      ]
    },
    {
      "cell_type": "code",
      "execution_count": null,
      "metadata": {
        "id": "xpVY3OIj8Kba"
      },
      "outputs": [],
      "source": [
        "import tensorflow.keras.backend as K\n",
        "import matplotlib.pyplot as plt\n",
        "import itertools\n",
        "import numpy as np\n",
        "import random\n",
        "import pandas as pd\n",
        "from tensorflow.keras.models import Sequential, Model, load_model\n",
        "from tensorflow.keras.layers import Input, Conv3D, MaxPooling3D,Flatten,Dense, Dropout, BatchNormalization, Add, AveragePooling3D, Activation, GaussianNoise, Lambda\n",
        "from tensorflow.keras import optimizers, losses, regularizers\n",
        "from tensorflow.keras.initializers import glorot_normal\n",
        "from tensorflow.keras.utils import plot_model, Sequence\n",
        "from tensorflow.keras.activations import relu\n",
        "from tensorflow.keras.callbacks import EarlyStopping, ModelCheckpoint, TensorBoard\n",
        "from tensorflow.keras.optimizers import Adam, SGD\n",
        "from IPython.display import SVG\n",
        "from sklearn.metrics import confusion_matrix, matthews_corrcoef\n",
        "from tqdm import tqdm, trange\n",
        "import tensorflow as tf\n",
        "import os"
      ]
    },
    {
      "cell_type": "markdown",
      "metadata": {
        "id": "fSp4mjx75ovC"
      },
      "source": [
        "## Define util functions"
      ]
    },
    {
      "cell_type": "code",
      "execution_count": null,
      "metadata": {
        "colab": {
          "background_save": true
        },
        "id": "CU5PBkYc5oBN"
      },
      "outputs": [],
      "source": [
        "# Reads a up to spec pdb file and return a tuple of the\n",
        "# atoms' x, y, z and atomtype\n",
        "def read_pdb(filename):\n",
        "    with open(filename, 'r') as file:\n",
        "        strline_L = file.readlines()\n",
        "    atom_list = []\n",
        "    for strline in strline_L:\n",
        "        # removes all whitespace at the start and end, including spaces, tabs, newlines and carriage returns\n",
        "        stripped_line = strline.strip()\n",
        "\n",
        "        line_length = len(stripped_line)\n",
        "        # print(\"Line length:{}\".format(line_length))\n",
        "        if line_length < 78:\n",
        "            print(\"ERROR: line length is different. Expected>=78, current={}\".format(line_length))\n",
        "        \n",
        "        atom_list.append((\n",
        "            stripped_line[30:38].strip(),\n",
        "            stripped_line[38:46].strip(),\n",
        "            stripped_line[46:54].strip(),\n",
        "            'h' if stripped_line[76:78].strip() == 'C' else 'p',\n",
        "        ))\n",
        "        \n",
        "    return np.array(atom_list, order='F')"
      ]
    },
    {
      "cell_type": "code",
      "execution_count": null,
      "metadata": {
        "colab": {
          "background_save": true
        },
        "id": "rX5pAtkB6XCY"
      },
      "outputs": [],
      "source": [
        "# Reads the test pdb file and return a tuple of the\n",
        "# atoms' x, y, z and atomtype\n",
        "def read_test_pdb(filename):\n",
        "    with open(filename, 'r') as file:\n",
        "        strline_L = file.readlines()\n",
        "    atom_list = []\n",
        "    for strline in strline_L:\n",
        "        # removes all whitespace at the start and end, including spaces, tabs, newlines and carriage returns\n",
        "        stripped_line = strline.strip()\n",
        "        tokens = stripped_line.split(\"\\t\")\n",
        "        \n",
        "        atom_list.append((\n",
        "            tokens[0],\n",
        "            tokens[1],\n",
        "            tokens[2],\n",
        "            tokens[3],\n",
        "        ))\n",
        "\n",
        "    return np.array(atom_list, order='F')"
      ]
    },
    {
      "cell_type": "code",
      "execution_count": null,
      "metadata": {
        "colab": {
          "background_save": true
        },
        "id": "KbQYmIcjMEUx"
      },
      "outputs": [],
      "source": [
        "def plot_confusion_matrix(cm, classes,\n",
        "                          normalize=False,\n",
        "                          title='Confusion matrix',\n",
        "                          cmap=plt.cm.Blues):\n",
        "    \"\"\"\n",
        "    This function prints and plots the confusion matrix.\n",
        "    Normalization can be applied by setting `normalize=True`.\n",
        "    \"\"\"\n",
        "    if normalize:\n",
        "        cm = cm.astype('float') / cm.sum(axis=1)[:, np.newaxis]\n",
        "        print(\"Normalized confusion matrix\")\n",
        "    else:\n",
        "        print('Confusion matrix, without normalization')\n",
        "\n",
        "    print(cm)\n",
        "\n",
        "    plt.imshow(cm, interpolation='nearest', cmap=cmap)\n",
        "    plt.title(title)\n",
        "    plt.colorbar()\n",
        "    tick_marks = np.arange(len(classes))\n",
        "    plt.xticks(tick_marks, classes, rotation=45)\n",
        "    plt.yticks(tick_marks, classes)\n",
        "\n",
        "    fmt = '.2f' if normalize else 'd'\n",
        "    thresh = cm.max() / 2.\n",
        "    for i, j in itertools.product(range(cm.shape[0]), range(cm.shape[1])):\n",
        "        plt.text(j, i, format(cm[i, j], fmt),\n",
        "                 horizontalalignment=\"center\",\n",
        "                 color=\"white\" if cm[i, j] > thresh else \"black\")\n",
        "\n",
        "    plt.ylabel('True label')\n",
        "    plt.xlabel('Predicted label')\n",
        "    plt.tight_layout()"
      ]
    },
    {
      "cell_type": "code",
      "execution_count": null,
      "metadata": {
        "colab": {
          "background_save": true
        },
        "id": "iF6-CnlNKL51"
      },
      "outputs": [],
      "source": [
        "def mcc(y_true, y_pred):\n",
        "    y_pred_pos = K.round(K.clip(y_pred, 0, 1))\n",
        "    y_pred_neg = 1 - y_pred_pos\n",
        "\n",
        "    y_pos = K.round(K.clip(y_true, 0, 1))\n",
        "    y_neg = 1 - y_pos\n",
        "\n",
        "    tp = K.sum(y_pos * y_pred_pos)\n",
        "    tn = K.sum(y_neg * y_pred_neg)\n",
        "\n",
        "    fp = K.sum(y_neg * y_pred_pos)\n",
        "    fn = K.sum(y_pos * y_pred_neg)\n",
        "\n",
        "    numerator = (tp * tn - fp * fn)\n",
        "    denominator = K.sqrt((tp + fp) * (tp + fn) * (tn + fp) * (tn + fn))\n",
        "\n",
        "    return numerator / (denominator + K.epsilon())\n",
        "\n",
        "def ppv(y_true, y_pred):\n",
        "    y_pred_pos = K.round(K.clip(y_pred, 0, 1))\n",
        "    y_pred_neg = 1 - y_pred_pos\n",
        "\n",
        "    y_pos = K.round(K.clip(y_true, 0, 1))\n",
        "    y_neg = 1 - y_pos\n",
        "\n",
        "    tp = K.sum(y_pos * y_pred_pos)\n",
        "    tn = K.sum(y_neg * y_pred_neg)\n",
        "\n",
        "    fp = K.sum(y_neg * y_pred_pos)\n",
        "    fn = K.sum(y_pos * y_pred_neg)\n",
        "\n",
        "    numerator = tp\n",
        "    denominator = tp + fp\n",
        "\n",
        "    return numerator / (denominator + K.epsilon())\n",
        "\n",
        "def tpr(y_true, y_pred):\n",
        "    y_pred_pos = K.round(K.clip(y_pred, 0, 1))\n",
        "    y_pred_neg = 1 - y_pred_pos\n",
        "\n",
        "    y_pos = K.round(K.clip(y_true, 0, 1))\n",
        "    y_neg = 1 - y_pos\n",
        "\n",
        "    tp = K.sum(y_pos * y_pred_pos)\n",
        "    tn = K.sum(y_neg * y_pred_neg)\n",
        "\n",
        "    fp = K.sum(y_neg * y_pred_pos)\n",
        "    fn = K.sum(y_pos * y_pred_neg)\n",
        "\n",
        "    numerator = tp\n",
        "    denominator = tp + fn\n",
        "\n",
        "    return numerator / (denominator + K.epsilon())\n"
      ]
    },
    {
      "cell_type": "markdown",
      "metadata": {
        "id": "AMgEKZ1z4ydt"
      },
      "source": [
        "# Import raw training data"
      ]
    },
    {
      "cell_type": "markdown",
      "metadata": {
        "id": "3u12bJmi5ZQT"
      },
      "source": [
        "## Download and unzip the training data"
      ]
    },
    {
      "cell_type": "code",
      "execution_count": null,
      "metadata": {
        "colab": {
          "background_save": true
        },
        "id": "tT5JBRlt5X9V"
      },
      "outputs": [],
      "source": [
        "!curl -O https://noname-1256719566.cos.ap-nanjing.myqcloud.com/project.zip\n",
        "!unzip project.zip"
      ]
    },
    {
      "cell_type": "markdown",
      "metadata": {
        "id": "3jTil3Yg6neI"
      },
      "source": [
        "## Load training data into memory"
      ]
    },
    {
      "cell_type": "code",
      "execution_count": null,
      "metadata": {
        "colab": {
          "background_save": true
        },
        "id": "w3ZWUsIa5iN9",
        "outputId": "6827785b-732e-4196-ce4a-d21cab19d0dd"
      },
      "outputs": [
        {
          "name": "stderr",
          "output_type": "stream",
          "text": [
            "100%|██████████| 3000/3000 [00:10<00:00, 282.34it/s]\n"
          ]
        }
      ],
      "source": [
        "raw_training_data = {\n",
        "    'pro': [],\n",
        "    'lig': []\n",
        "}\n",
        "for i in trange(3000):\n",
        "    raw_training_data['pro'].append(\n",
        "        read_pdb(\"project/training_data/{:04d}_pro_cg.pdb\".format(i + 1)))\n",
        "    raw_training_data['lig'].append(\n",
        "        read_pdb(\"project/training_data/{:04d}_lig_cg.pdb\".format(i + 1)))"
      ]
    },
    {
      "cell_type": "code",
      "execution_count": null,
      "metadata": {
        "colab": {
          "background_save": true
        },
        "id": "HGs_6EpYJrZJ"
      },
      "outputs": [],
      "source": [
        "n = int(len(raw_training_data['pro'])*0.9)\n",
        "raw_training_train_data = {\n",
        "    'pro': raw_training_data['pro'][:n],\n",
        "    'lig': raw_training_data['lig'][:n]\n",
        "}\n",
        "raw_training_test_data = {\n",
        "    'pro': raw_training_data['pro'][n:],\n",
        "    'lig': raw_training_data['lig'][n:]\n",
        "}"
      ]
    },
    {
      "cell_type": "code",
      "execution_count": null,
      "metadata": {
        "colab": {
          "background_save": true
        },
        "id": "2-N0h-7AuJDF"
      },
      "outputs": [],
      "source": [
        "# raw_training_data"
      ]
    },
    {
      "cell_type": "markdown",
      "metadata": {
        "id": "fNCR-RG_ZOsc"
      },
      "source": [
        "# Preprocess training data"
      ]
    },
    {
      "cell_type": "markdown",
      "metadata": {
        "id": "pZS6ACn2KqkG"
      },
      "source": [
        "## Install multidimensional sparse matrix library"
      ]
    },
    {
      "cell_type": "code",
      "execution_count": null,
      "metadata": {
        "colab": {
          "background_save": true
        },
        "id": "y74Bqu97KumN",
        "outputId": "f0e8e536-1ec1-47de-c4a0-98343461113f"
      },
      "outputs": [
        {
          "name": "stdout",
          "output_type": "stream",
          "text": [
            "Collecting sparse\n",
            "  Downloading sparse-0.13.0-py2.py3-none-any.whl (77 kB)\n",
            "\u001b[?25l\r\u001b[K     |████▏                           | 10 kB 25.0 MB/s eta 0:00:01\r\u001b[K     |████████▍                       | 20 kB 10.9 MB/s eta 0:00:01\r\u001b[K     |████████████▋                   | 30 kB 8.2 MB/s eta 0:00:01\r\u001b[K     |████████████████▉               | 40 kB 8.5 MB/s eta 0:00:01\r\u001b[K     |█████████████████████           | 51 kB 5.1 MB/s eta 0:00:01\r\u001b[K     |█████████████████████████▎      | 61 kB 5.6 MB/s eta 0:00:01\r\u001b[K     |█████████████████████████████▌  | 71 kB 5.5 MB/s eta 0:00:01\r\u001b[K     |████████████████████████████████| 77 kB 3.2 MB/s \n",
            "\u001b[?25hRequirement already satisfied: numpy>=1.17 in /usr/local/lib/python3.7/dist-packages (from sparse) (1.19.5)\n",
            "Requirement already satisfied: scipy>=0.19 in /usr/local/lib/python3.7/dist-packages (from sparse) (1.4.1)\n",
            "Requirement already satisfied: numba>=0.49 in /usr/local/lib/python3.7/dist-packages (from sparse) (0.51.2)\n",
            "Requirement already satisfied: llvmlite<0.35,>=0.34.0.dev0 in /usr/local/lib/python3.7/dist-packages (from numba>=0.49->sparse) (0.34.0)\n",
            "Requirement already satisfied: setuptools in /usr/local/lib/python3.7/dist-packages (from numba>=0.49->sparse) (57.4.0)\n",
            "Installing collected packages: sparse\n",
            "Successfully installed sparse-0.13.0\n"
          ]
        }
      ],
      "source": [
        "!pip install sparse"
      ]
    },
    {
      "cell_type": "code",
      "execution_count": null,
      "metadata": {
        "colab": {
          "background_save": true
        },
        "id": "w05VtPMJLw_Y"
      },
      "outputs": [],
      "source": [
        "from sparse import COO\n",
        "import sparse"
      ]
    },
    {
      "cell_type": "markdown",
      "metadata": {
        "id": "RmOpSKmd9lwv"
      },
      "source": [
        "## Define voxelization functions"
      ]
    },
    {
      "cell_type": "code",
      "execution_count": null,
      "metadata": {
        "colab": {
          "background_save": true
        },
        "id": "feaONl2zONBH"
      },
      "outputs": [],
      "source": [
        "# Returns a sparse matrix representation of the voxel\n",
        "def voxelize(pdb_inputs, max_dist=20, grid_resolution=4):\n",
        "    def featurize(atom_type):\n",
        "        # Default: protein, hydrophobic\n",
        "        feat = [0, 128]\n",
        "        # Change to ligand\n",
        "        if atom_type[1] == 'l':\n",
        "            feat[0] = 1\n",
        "        # change to polar\n",
        "        if atom_type[0] == 'p':\n",
        "            feat[1] = 256\n",
        "        return feat\n",
        "    \n",
        "    max_dist = float(max_dist)\n",
        "    grid_resolution = float(grid_resolution)\n",
        "    box_size = np.ceil(2 * max_dist / grid_resolution + 1)\n",
        "\n",
        "    # merge protein and ligand\n",
        "    pro_atoms = pdb_inputs[0]\n",
        "    lig_atoms = pdb_inputs[1]\n",
        "    pro_atoms = np.c_[pro_atoms, np.full(pro_atoms.shape[0], 'p')]\n",
        "    lig_atoms = np.c_[lig_atoms, np.full(lig_atoms.shape[0], 'l')]\n",
        "    all_atoms = np.r_[pro_atoms, lig_atoms]\n",
        "\n",
        "    # center all atoms around the center of the protein\n",
        "    coord_mat = all_atoms[:,:3].astype(np.float)\n",
        "    coord_mat = coord_mat - np.mean(lig_atoms[:,:3].astype(np.float), axis=0)\n",
        "\n",
        "    # add feature list to identify the atom h/p and pro/lig\n",
        "    feats_list = np.asarray([featurize(atom_type) for atom_type in all_atoms[:,-2:]])  \n",
        "    atom_mat = np.c_[coord_mat, feats_list]\n",
        "\n",
        "    # move all atoms to the nearest grid point\n",
        "    atom_mat = np.c_[coord_mat, feats_list]\n",
        "    atom_mat[:,:3] = (atom_mat[:,:3] + max_dist) / grid_resolution\n",
        "    atom_mat[:,:3] = atom_mat[:,:3].round()\n",
        "    atom_mat = atom_mat.astype(int)\n",
        "\n",
        "    # remove atoms outside the box\n",
        "    in_box = ((atom_mat[:,:3] >= 0) & (atom_mat[:,:3] < box_size)).all(axis=1)\n",
        "    atom_mat = atom_mat[in_box]\n",
        "\n",
        "    # transpose the matrix\n",
        "    feats_list = np.squeeze(atom_mat[:,-1:])\n",
        "    atom_mat = atom_mat[:,:4].T\n",
        "    \n",
        "    # create the sparse matrix\n",
        "    s = COO(atom_mat, feats_list, shape=(int(box_size), int(box_size), int(box_size), 2))\n",
        "    s.sum()\n",
        "    s = s.reshape((1, int(box_size), int(box_size), int(box_size), 2))\n",
        "    \n",
        "    return s"
      ]
    },
    {
      "cell_type": "code",
      "execution_count": null,
      "metadata": {
        "colab": {
          "background_save": true
        },
        "id": "NCjgvjon-l8H"
      },
      "outputs": [],
      "source": [
        "# Returns a tuple containg the training data and corresponding labels\n",
        "# ratio specifies the number of negative training examples generated\n",
        "# per positive training example\n",
        "def generate_training_data(raw_data, pos_ratio=1, neg_ratio=1, max_dist=20, grid_resolution=4, quiet=False):\n",
        "    n = len(raw_data['pro'])\n",
        "    x_all = []\n",
        "    y_all = []\n",
        "    for i in tqdm(range(n), disable=quiet):\n",
        "        for _ in range(pos_ratio):\n",
        "            grid = voxelize((\n",
        "                raw_data['pro'][i],\n",
        "                raw_data['lig'][i]\n",
        "            ), max_dist, grid_resolution)\n",
        "            x_all.append(grid)\n",
        "            y_all.append([1.])\n",
        "        for _ in range(neg_ratio):\n",
        "            grid = voxelize((\n",
        "                raw_data['pro'][i],\n",
        "                raw_data['lig'][random.choice(list(range(i)) + list(range(i+1, n)))]\n",
        "            ), max_dist, grid_resolution)\n",
        "            x_all.append(grid)\n",
        "            y_all.append([0.])\n",
        "    return sparse.concatenate(x_all), np.asarray(y_all)"
      ]
    },
    {
      "cell_type": "markdown",
      "metadata": {
        "id": "gRkntlc6N-SU"
      },
      "source": [
        "## Define Keras Sequence for dymanically generating samples\n",
        "\n"
      ]
    },
    {
      "cell_type": "code",
      "execution_count": null,
      "metadata": {
        "colab": {
          "background_save": true
        },
        "id": "8JjffQmKOE1R"
      },
      "outputs": [],
      "source": [
        "class ProLigSequence(Sequence):\n",
        "\n",
        "    def __init__(self, raw_data, max_dist=20, grid_resolution=4, batch_size=128, neg_ratio=1, quiet=True, sparse=True):\n",
        "        self.raw_data = raw_data\n",
        "        self.max_dist = max_dist\n",
        "        self.grid_resolution = grid_resolution\n",
        "        self.batch_size = batch_size\n",
        "        self.neg_ratio = neg_ratio\n",
        "        self.quiet = quiet\n",
        "        self.sparse = sparse\n",
        "        self.pos_eg_x, self.pos_eg_y = generate_training_data(raw_data, neg_ratio=0, max_dist=max_dist, grid_resolution=grid_resolution, quiet=self.quiet)\n",
        "        if not sparse:\n",
        "            self.pos_eg_x = self.pos_eg_x.todense()\n",
        "        self.on_epoch_end()\n",
        "        \n",
        "    def __len__(self):\n",
        "        return int(np.ceil(len(self.all_eg_x) / float(self.batch_size)))\n",
        "\n",
        "    def __getitem__(self, idx):\n",
        "        indexes = self.indexes[idx*self.batch_size:(idx+1)*self.batch_size]\n",
        "        batch_x = self.all_eg_x[indexes].todense() if self.sparse else self.all_eg_x[indexes]\n",
        "        batch_y = self.all_eg_y[indexes]\n",
        "        return batch_x, batch_y\n",
        "\n",
        "    def on_epoch_end(self):\n",
        "        # Generate a new set of negative training examples\n",
        "        self.neg_eg_x, self.neg_eg_y = generate_training_data(\n",
        "            self.raw_data,\n",
        "            pos_ratio=0,\n",
        "            neg_ratio=self.neg_ratio,\n",
        "            max_dist=self.max_dist,\n",
        "            grid_resolution=self.grid_resolution,\n",
        "            quiet=self.quiet\n",
        "        )\n",
        "        if self.sparse:\n",
        "            self.all_eg_x = sparse.concatenate((self.pos_eg_x, self.neg_eg_x))\n",
        "        else:\n",
        "            self.all_eg_x = np.concatenate((self.pos_eg_x, self.neg_eg_x.todense()))\n",
        "        self.all_eg_y = np.concatenate((self.pos_eg_y, self.neg_eg_y))\n",
        "        self.indexes = np.arange(len(self.all_eg_x))\n",
        "        np.random.shuffle(self.indexes)"
      ]
    },
    {
      "cell_type": "markdown",
      "metadata": {
        "id": "HM-D13Q6CdOG"
      },
      "source": [
        "# Define Wide ResNet"
      ]
    },
    {
      "cell_type": "code",
      "execution_count": null,
      "metadata": {
        "colab": {
          "background_save": true
        },
        "id": "UUJwN6JVCnSJ"
      },
      "outputs": [],
      "source": [
        "# k defines the width of the network as defined in the Wide ResNet paper\n",
        "def generate_resnet(input_shape, k=1, noise=False,\n",
        "                    l1_filters=16, l1_kernel_size=3, l1_dilation_rate=1):\n",
        "    inputs = Input(shape=input_shape)\n",
        "    x = inputs\n",
        "    x = Conv3D(\n",
        "        filters=l1_filters,\n",
        "        kernel_size=l1_kernel_size,\n",
        "        dilation_rate=l1_dilation_rate,\n",
        "        padding='valid',\n",
        "        data_format='channels_last',\n",
        "        kernel_initializer='he_normal',\n",
        "    )(x)\n",
        "    \n",
        "    # Block 1.1 32 Features\n",
        "    x = BatchNormalization()(x)\n",
        "    x = Activation('relu')(x)\n",
        "    x2 = Conv3D(\n",
        "        filters=32*k,\n",
        "        kernel_size=1,\n",
        "        padding='same',\n",
        "        data_format='channels_last',\n",
        "        kernel_initializer='he_normal',\n",
        "    )(x)\n",
        "    x1 = Conv3D(\n",
        "        filters=32*k,\n",
        "        kernel_size=3,\n",
        "        padding='same',\n",
        "        data_format='channels_last',\n",
        "        kernel_initializer='he_normal',\n",
        "    )(x)\n",
        "    x1 = Dropout(0.5)(x1)\n",
        "    x1 = BatchNormalization()(x1)\n",
        "    x1 = Activation('relu')(x1)\n",
        "    x1 = Conv3D(\n",
        "        filters=32*k,\n",
        "        kernel_size=3,\n",
        "        padding='same',\n",
        "        data_format='channels_last',\n",
        "        kernel_initializer='he_normal',\n",
        "    )(x1)\n",
        "    x = Add()([x1, x2])\n",
        "\n",
        "    # Block 1.2 32 Features\n",
        "    x2 = x\n",
        "    x1 = BatchNormalization()(x)\n",
        "    x1 = Activation('relu')(x1)\n",
        "    x1 = Conv3D(\n",
        "        filters=32*k,\n",
        "        kernel_size=3,\n",
        "        padding='same',\n",
        "        data_format='channels_last',\n",
        "        kernel_initializer='he_normal',\n",
        "    )(x1)\n",
        "    x1 = Dropout(0.5)(x1)\n",
        "    x1 = BatchNormalization()(x1)\n",
        "    x1 = Activation('relu')(x1)\n",
        "    x1 = Conv3D(\n",
        "        filters=32*k,\n",
        "        kernel_size=3,\n",
        "        padding='same',\n",
        "        data_format='channels_last',\n",
        "        kernel_initializer='he_normal',\n",
        "    )(x1)\n",
        "    x = Add()([x1, x2])\n",
        "\n",
        "    # Block 2.1 64 Features\n",
        "    x = BatchNormalization()(x)\n",
        "    x = Activation('relu')(x)\n",
        "    x2 = Conv3D(\n",
        "        filters=64*k,\n",
        "        kernel_size=1,\n",
        "        padding='same',\n",
        "        data_format='channels_last',\n",
        "        kernel_initializer='he_normal',\n",
        "    )(x)\n",
        "    x1 = Conv3D(\n",
        "        filters=64*k,\n",
        "        kernel_size=3,\n",
        "        padding='same',\n",
        "        data_format='channels_last',\n",
        "        kernel_initializer='he_normal',\n",
        "    )(x)\n",
        "    x1 = Dropout(0.5)(x1)\n",
        "    x1 = BatchNormalization()(x1)\n",
        "    x1 = Activation('relu')(x1)\n",
        "    x1 = Conv3D(\n",
        "        filters=64*k,\n",
        "        kernel_size=3,\n",
        "        padding='same',\n",
        "        data_format='channels_last',\n",
        "        kernel_initializer='he_normal',\n",
        "    )(x1)\n",
        "    x = Add()([x1, x2])\n",
        "\n",
        "    # Block 2.2 64 Features\n",
        "    x2 = x\n",
        "    x1 = BatchNormalization()(x)\n",
        "    x1 = Activation('relu')(x1)\n",
        "    x1 = Conv3D(\n",
        "        filters=64*k,\n",
        "        kernel_size=3,\n",
        "        padding='same',\n",
        "        data_format='channels_last',\n",
        "        kernel_initializer='he_normal',\n",
        "    )(x1)\n",
        "    x1 = Dropout(0.5)(x1)\n",
        "    x1 = BatchNormalization()(x1)\n",
        "    x1 = Activation('relu')(x1)\n",
        "    x1 = Conv3D(\n",
        "        filters=64*k,\n",
        "        kernel_size=3,\n",
        "        padding='same',\n",
        "        data_format='channels_last',\n",
        "        kernel_initializer='he_normal',\n",
        "    )(x1)\n",
        "    x = Add()([x1, x2])    \n",
        "    \n",
        "    # Block 3.1 128 Features\n",
        "    x = BatchNormalization()(x)\n",
        "    x = Activation('relu')(x)\n",
        "    x2 = Conv3D(\n",
        "        filters=128*k,\n",
        "        kernel_size=1,\n",
        "        padding='same',\n",
        "        data_format='channels_last',\n",
        "        kernel_initializer='he_normal',\n",
        "    )(x)\n",
        "    x1 = Conv3D(\n",
        "        filters=128*k,\n",
        "        kernel_size=3,\n",
        "        padding='same',\n",
        "        data_format='channels_last',\n",
        "        kernel_initializer='he_normal',\n",
        "    )(x)\n",
        "    x1 = Dropout(0.5)(x1)\n",
        "    x1 = BatchNormalization()(x1)\n",
        "    x1 = Activation('relu')(x1)\n",
        "    x1 = Conv3D(\n",
        "        filters=128*k,\n",
        "        kernel_size=3,\n",
        "        padding='same',\n",
        "        data_format='channels_last',\n",
        "        kernel_initializer='he_normal',\n",
        "    )(x1)\n",
        "    x = Add()([x1, x2])\n",
        "\n",
        "    # Block 3.2 128 Features\n",
        "    x2 = x\n",
        "    x1 = BatchNormalization()(x)\n",
        "    x1 = Activation('relu')(x1)\n",
        "    x1 = Conv3D(\n",
        "        filters=128*k,\n",
        "        kernel_size=3,\n",
        "        padding='same',\n",
        "        data_format='channels_last',\n",
        "        kernel_initializer='he_normal',\n",
        "    )(x1)\n",
        "    x1 = Dropout(0.5)(x1)\n",
        "    x1 = BatchNormalization()(x1)\n",
        "    x1 = Activation('relu')(x1)\n",
        "    x1 = Conv3D(\n",
        "        filters=128*k,\n",
        "        kernel_size=3,\n",
        "        padding='same',\n",
        "        data_format='channels_last',\n",
        "        kernel_initializer='he_normal',\n",
        "    )(x1)\n",
        "    x = Add()([x1, x2])      \n",
        "    \n",
        "    x = BatchNormalization()(x)\n",
        "    x = Activation('relu')(x)\n",
        "\n",
        "    x = AveragePooling3D()(x)\n",
        "    x = Flatten()(x)\n",
        "    x = Dense(\n",
        "        128,\n",
        "        activation='relu',\n",
        "        kernel_initializer='he_normal',\n",
        "    )(x)\n",
        "    x = Dropout(0.5)(x)\n",
        "    outputs = Dense(\n",
        "        1,\n",
        "        activation='sigmoid',\n",
        "        kernel_initializer='he_normal',\n",
        "    )(x)\n",
        "\n",
        "    return Model(inputs=inputs, outputs=outputs)\n"
      ]
    },
    {
      "cell_type": "code",
      "execution_count": null,
      "metadata": {
        "colab": {
          "background_save": true
        },
        "id": "PEJKuSlj2i7P",
        "outputId": "692da633-6d58-403a-f6a5-ec91f79270a9"
      },
      "outputs": [
        {
          "name": "stdout",
          "output_type": "stream",
          "text": [
            "Model: \"model\"\n",
            "__________________________________________________________________________________________________\n",
            " Layer (type)                   Output Shape         Param #     Connected to                     \n",
            "==================================================================================================\n",
            " input_1 (InputLayer)           [(None, 21, 21, 21,  0           []                               \n",
            "                                 2)]                                                              \n",
            "                                                                                                  \n",
            " conv3d (Conv3D)                (None, 6, 6, 6, 16)  6928        ['input_1[0][0]']                \n",
            "                                                                                                  \n",
            " batch_normalization (BatchNorm  (None, 6, 6, 6, 16)  64         ['conv3d[0][0]']                 \n",
            " alization)                                                                                       \n",
            "                                                                                                  \n",
            " activation (Activation)        (None, 6, 6, 6, 16)  0           ['batch_normalization[0][0]']    \n",
            "                                                                                                  \n",
            " conv3d_2 (Conv3D)              (None, 6, 6, 6, 32)  13856       ['activation[0][0]']             \n",
            "                                                                                                  \n",
            " dropout (Dropout)              (None, 6, 6, 6, 32)  0           ['conv3d_2[0][0]']               \n",
            "                                                                                                  \n",
            " batch_normalization_1 (BatchNo  (None, 6, 6, 6, 32)  128        ['dropout[0][0]']                \n",
            " rmalization)                                                                                     \n",
            "                                                                                                  \n",
            " activation_1 (Activation)      (None, 6, 6, 6, 32)  0           ['batch_normalization_1[0][0]']  \n",
            "                                                                                                  \n",
            " conv3d_3 (Conv3D)              (None, 6, 6, 6, 32)  27680       ['activation_1[0][0]']           \n",
            "                                                                                                  \n",
            " conv3d_1 (Conv3D)              (None, 6, 6, 6, 32)  544         ['activation[0][0]']             \n",
            "                                                                                                  \n",
            " add (Add)                      (None, 6, 6, 6, 32)  0           ['conv3d_3[0][0]',               \n",
            "                                                                  'conv3d_1[0][0]']               \n",
            "                                                                                                  \n",
            " batch_normalization_2 (BatchNo  (None, 6, 6, 6, 32)  128        ['add[0][0]']                    \n",
            " rmalization)                                                                                     \n",
            "                                                                                                  \n",
            " activation_2 (Activation)      (None, 6, 6, 6, 32)  0           ['batch_normalization_2[0][0]']  \n",
            "                                                                                                  \n",
            " conv3d_4 (Conv3D)              (None, 6, 6, 6, 32)  27680       ['activation_2[0][0]']           \n",
            "                                                                                                  \n",
            " dropout_1 (Dropout)            (None, 6, 6, 6, 32)  0           ['conv3d_4[0][0]']               \n",
            "                                                                                                  \n",
            " batch_normalization_3 (BatchNo  (None, 6, 6, 6, 32)  128        ['dropout_1[0][0]']              \n",
            " rmalization)                                                                                     \n",
            "                                                                                                  \n",
            " activation_3 (Activation)      (None, 6, 6, 6, 32)  0           ['batch_normalization_3[0][0]']  \n",
            "                                                                                                  \n",
            " conv3d_5 (Conv3D)              (None, 6, 6, 6, 32)  27680       ['activation_3[0][0]']           \n",
            "                                                                                                  \n",
            " add_1 (Add)                    (None, 6, 6, 6, 32)  0           ['conv3d_5[0][0]',               \n",
            "                                                                  'add[0][0]']                    \n",
            "                                                                                                  \n",
            " batch_normalization_4 (BatchNo  (None, 6, 6, 6, 32)  128        ['add_1[0][0]']                  \n",
            " rmalization)                                                                                     \n",
            "                                                                                                  \n",
            " activation_4 (Activation)      (None, 6, 6, 6, 32)  0           ['batch_normalization_4[0][0]']  \n",
            "                                                                                                  \n",
            " conv3d_7 (Conv3D)              (None, 6, 6, 6, 64)  55360       ['activation_4[0][0]']           \n",
            "                                                                                                  \n",
            " dropout_2 (Dropout)            (None, 6, 6, 6, 64)  0           ['conv3d_7[0][0]']               \n",
            "                                                                                                  \n",
            " batch_normalization_5 (BatchNo  (None, 6, 6, 6, 64)  256        ['dropout_2[0][0]']              \n",
            " rmalization)                                                                                     \n",
            "                                                                                                  \n",
            " activation_5 (Activation)      (None, 6, 6, 6, 64)  0           ['batch_normalization_5[0][0]']  \n",
            "                                                                                                  \n",
            " conv3d_8 (Conv3D)              (None, 6, 6, 6, 64)  110656      ['activation_5[0][0]']           \n",
            "                                                                                                  \n",
            " conv3d_6 (Conv3D)              (None, 6, 6, 6, 64)  2112        ['activation_4[0][0]']           \n",
            "                                                                                                  \n",
            " add_2 (Add)                    (None, 6, 6, 6, 64)  0           ['conv3d_8[0][0]',               \n",
            "                                                                  'conv3d_6[0][0]']               \n",
            "                                                                                                  \n",
            " batch_normalization_6 (BatchNo  (None, 6, 6, 6, 64)  256        ['add_2[0][0]']                  \n",
            " rmalization)                                                                                     \n",
            "                                                                                                  \n",
            " activation_6 (Activation)      (None, 6, 6, 6, 64)  0           ['batch_normalization_6[0][0]']  \n",
            "                                                                                                  \n",
            " conv3d_9 (Conv3D)              (None, 6, 6, 6, 64)  110656      ['activation_6[0][0]']           \n",
            "                                                                                                  \n",
            " dropout_3 (Dropout)            (None, 6, 6, 6, 64)  0           ['conv3d_9[0][0]']               \n",
            "                                                                                                  \n",
            " batch_normalization_7 (BatchNo  (None, 6, 6, 6, 64)  256        ['dropout_3[0][0]']              \n",
            " rmalization)                                                                                     \n",
            "                                                                                                  \n",
            " activation_7 (Activation)      (None, 6, 6, 6, 64)  0           ['batch_normalization_7[0][0]']  \n",
            "                                                                                                  \n",
            " conv3d_10 (Conv3D)             (None, 6, 6, 6, 64)  110656      ['activation_7[0][0]']           \n",
            "                                                                                                  \n",
            " add_3 (Add)                    (None, 6, 6, 6, 64)  0           ['conv3d_10[0][0]',              \n",
            "                                                                  'add_2[0][0]']                  \n",
            "                                                                                                  \n",
            " batch_normalization_8 (BatchNo  (None, 6, 6, 6, 64)  256        ['add_3[0][0]']                  \n",
            " rmalization)                                                                                     \n",
            "                                                                                                  \n",
            " activation_8 (Activation)      (None, 6, 6, 6, 64)  0           ['batch_normalization_8[0][0]']  \n",
            "                                                                                                  \n",
            " conv3d_12 (Conv3D)             (None, 6, 6, 6, 128  221312      ['activation_8[0][0]']           \n",
            "                                )                                                                 \n",
            "                                                                                                  \n",
            " dropout_4 (Dropout)            (None, 6, 6, 6, 128  0           ['conv3d_12[0][0]']              \n",
            "                                )                                                                 \n",
            "                                                                                                  \n",
            " batch_normalization_9 (BatchNo  (None, 6, 6, 6, 128  512        ['dropout_4[0][0]']              \n",
            " rmalization)                   )                                                                 \n",
            "                                                                                                  \n",
            " activation_9 (Activation)      (None, 6, 6, 6, 128  0           ['batch_normalization_9[0][0]']  \n",
            "                                )                                                                 \n",
            "                                                                                                  \n",
            " conv3d_13 (Conv3D)             (None, 6, 6, 6, 128  442496      ['activation_9[0][0]']           \n",
            "                                )                                                                 \n",
            "                                                                                                  \n",
            " conv3d_11 (Conv3D)             (None, 6, 6, 6, 128  8320        ['activation_8[0][0]']           \n",
            "                                )                                                                 \n",
            "                                                                                                  \n",
            " add_4 (Add)                    (None, 6, 6, 6, 128  0           ['conv3d_13[0][0]',              \n",
            "                                )                                 'conv3d_11[0][0]']              \n",
            "                                                                                                  \n",
            " batch_normalization_10 (BatchN  (None, 6, 6, 6, 128  512        ['add_4[0][0]']                  \n",
            " ormalization)                  )                                                                 \n",
            "                                                                                                  \n",
            " activation_10 (Activation)     (None, 6, 6, 6, 128  0           ['batch_normalization_10[0][0]'] \n",
            "                                )                                                                 \n",
            "                                                                                                  \n",
            " conv3d_14 (Conv3D)             (None, 6, 6, 6, 128  442496      ['activation_10[0][0]']          \n",
            "                                )                                                                 \n",
            "                                                                                                  \n",
            " dropout_5 (Dropout)            (None, 6, 6, 6, 128  0           ['conv3d_14[0][0]']              \n",
            "                                )                                                                 \n",
            "                                                                                                  \n",
            " batch_normalization_11 (BatchN  (None, 6, 6, 6, 128  512        ['dropout_5[0][0]']              \n",
            " ormalization)                  )                                                                 \n",
            "                                                                                                  \n",
            " activation_11 (Activation)     (None, 6, 6, 6, 128  0           ['batch_normalization_11[0][0]'] \n",
            "                                )                                                                 \n",
            "                                                                                                  \n",
            " conv3d_15 (Conv3D)             (None, 6, 6, 6, 128  442496      ['activation_11[0][0]']          \n",
            "                                )                                                                 \n",
            "                                                                                                  \n",
            " add_5 (Add)                    (None, 6, 6, 6, 128  0           ['conv3d_15[0][0]',              \n",
            "                                )                                 'add_4[0][0]']                  \n",
            "                                                                                                  \n",
            " batch_normalization_12 (BatchN  (None, 6, 6, 6, 128  512        ['add_5[0][0]']                  \n",
            " ormalization)                  )                                                                 \n",
            "                                                                                                  \n",
            " activation_12 (Activation)     (None, 6, 6, 6, 128  0           ['batch_normalization_12[0][0]'] \n",
            "                                )                                                                 \n",
            "                                                                                                  \n",
            " average_pooling3d (AveragePool  (None, 3, 3, 3, 128  0          ['activation_12[0][0]']          \n",
            " ing3D)                         )                                                                 \n",
            "                                                                                                  \n",
            " flatten (Flatten)              (None, 3456)         0           ['average_pooling3d[0][0]']      \n",
            "                                                                                                  \n",
            " dense (Dense)                  (None, 128)          442496      ['flatten[0][0]']                \n",
            "                                                                                                  \n",
            " dropout_6 (Dropout)            (None, 128)          0           ['dense[0][0]']                  \n",
            "                                                                                                  \n",
            " dense_1 (Dense)                (None, 1)            129         ['dropout_6[0][0]']              \n",
            "                                                                                                  \n",
            "==================================================================================================\n",
            "Total params: 2,497,201\n",
            "Trainable params: 2,495,377\n",
            "Non-trainable params: 1,824\n",
            "__________________________________________________________________________________________________\n"
          ]
        }
      ],
      "source": [
        "model = generate_resnet(\n",
        "    input_shape=(21, 21, 21, 2),\n",
        "    k=1,\n",
        "    l1_filters=16,\n",
        "    l1_kernel_size=6,\n",
        "    l1_dilation_rate=3,\n",
        ")\n",
        "model.summary()"
      ]
    },
    {
      "cell_type": "code",
      "execution_count": null,
      "metadata": {
        "colab": {
          "background_save": true
        },
        "id": "1N2W6iUu7LF7"
      },
      "outputs": [],
      "source": [
        "model.compile(\n",
        "    loss='binary_crossentropy',\n",
        "    metrics=['accuracy', 'loss', 'val_accuracy', 'val_loss'],\n",
        "    optimizer=Adam()\n",
        ")"
      ]
    },
    {
      "cell_type": "code",
      "execution_count": null,
      "metadata": {
        "colab": {
          "background_save": true
        },
        "id": "oGvHROcCBamb"
      },
      "outputs": [],
      "source": [
        "gen = ProLigSequence(raw_training_train_data, batch_size=512, max_dist=40, grid_resolution=4, sparse=False)"
      ]
    },
    {
      "cell_type": "code",
      "execution_count": null,
      "metadata": {
        "colab": {
          "background_save": true
        },
        "id": "bhnAgAQ3BsYE"
      },
      "outputs": [],
      "source": [
        "val = ProLigSequence(raw_training_test_data, batch_size=512, max_dist=40, grid_resolution=4, sparse=False)"
      ]
    },
    {
      "cell_type": "code",
      "execution_count": null,
      "metadata": {
        "colab": {
          "background_save": true
        },
        "id": "Tj9YEknfC2sA"
      },
      "outputs": [],
      "source": [
        "def mcc(y_true, y_pred):\n",
        "    y_pred_pos = K.round(K.clip(y_pred, 0, 1))\n",
        "    y_pred_neg = 1 - y_pred_pos\n",
        "\n",
        "    y_pos = K.round(K.clip(y_true, 0, 1))\n",
        "    y_neg = 1 - y_pos\n",
        "\n",
        "    tp = K.sum(y_pos * y_pred_pos)\n",
        "    tn = K.sum(y_neg * y_pred_neg)\n",
        "\n",
        "    fp = K.sum(y_neg * y_pred_pos)\n",
        "    fn = K.sum(y_pos * y_pred_neg)\n",
        "\n",
        "    numerator = (tp * tn - fp * fn)\n",
        "    denominator = K.sqrt((tp + fp) * (tp + fn) * (tn + fp) * (tn + fn))\n",
        "\n",
        "    return numerator / (denominator + K.epsilon())\n",
        "\n",
        "def ppv(y_true, y_pred):\n",
        "    y_pred_pos = K.round(K.clip(y_pred, 0, 1))\n",
        "    y_pred_neg = 1 - y_pred_pos\n",
        "\n",
        "    y_pos = K.round(K.clip(y_true, 0, 1))\n",
        "    y_neg = 1 - y_pos\n",
        "\n",
        "    tp = K.sum(y_pos * y_pred_pos)\n",
        "    tn = K.sum(y_neg * y_pred_neg)\n",
        "\n",
        "    fp = K.sum(y_neg * y_pred_pos)\n",
        "    fn = K.sum(y_pos * y_pred_neg)\n",
        "\n",
        "    numerator = tp\n",
        "    denominator = tp + fp\n",
        "\n",
        "    return numerator / (denominator + K.epsilon())\n",
        "\n",
        "def tpr(y_true, y_pred):\n",
        "    y_pred_pos = K.round(K.clip(y_pred, 0, 1))\n",
        "    y_pred_neg = 1 - y_pred_pos\n",
        "\n",
        "    y_pos = K.round(K.clip(y_true, 0, 1))\n",
        "    y_neg = 1 - y_pos\n",
        "\n",
        "    tp = K.sum(y_pos * y_pred_pos)\n",
        "    tn = K.sum(y_neg * y_pred_neg)\n",
        "\n",
        "    fp = K.sum(y_neg * y_pred_pos)\n",
        "    fn = K.sum(y_pos * y_pred_neg)\n",
        "\n",
        "    numerator = tp\n",
        "    denominator = tp + fn\n",
        "\n",
        "    return numerator / (denominator + K.epsilon())\n"
      ]
    },
    {
      "cell_type": "code",
      "execution_count": null,
      "metadata": {
        "colab": {
          "background_save": true
        },
        "id": "aPBvKYX2tclS"
      },
      "outputs": [],
      "source": [
        "model.compile(\n",
        "    loss='binary_crossentropy',\n",
        "    metrics=['acc', mcc, ppv, tpr],\n",
        "    optimizer=Adam())"
      ]
    },
    {
      "cell_type": "code",
      "execution_count": null,
      "metadata": {
        "colab": {
          "background_save": true
        },
        "id": "ULCv2l26d4-y",
        "outputId": "ff5ca3d5-c77a-40bd-828a-514c1e3c4602"
      },
      "outputs": [
        {
          "name": "stderr",
          "output_type": "stream",
          "text": [
            "/usr/local/lib/python3.7/dist-packages/keras/engine/functional.py:1410: CustomMaskWarning: Custom mask layers require a config and must override get_config. When loading, the custom mask layer must be passed to the custom_objects argument.\n",
            "  layer_config = serialize_layer_fn(layer)\n"
          ]
        },
        {
          "name": "stdout",
          "output_type": "stream",
          "text": [
            "Epoch 1/50\n",
            "11/11 [==============================] - ETA: 0s - loss: 0.7495 - acc: 0.7350 - mcc: 0.5049 - ppv: 0.8045 - tpr: 0.7057 \n",
            "Epoch 00001: val_acc improved from -inf to 0.50000, saving model to Dynamic.h5\n",
            "11/11 [==============================] - 388s 35s/step - loss: 0.7495 - acc: 0.7350 - mcc: 0.5049 - ppv: 0.8045 - tpr: 0.7057 - val_loss: 259.6487 - val_acc: 0.5000 - val_mcc: 0.0000e+00 - val_ppv: 0.5188 - val_tpr: 1.0000\n",
            "Epoch 2/50\n",
            "11/11 [==============================] - ETA: 0s - loss: 0.2185 - acc: 0.9233 - mcc: 0.8512 - ppv: 0.8902 - tpr: 0.9673 \n",
            "Epoch 00002: val_acc improved from 0.50000 to 0.52667, saving model to Dynamic.h5\n",
            "11/11 [==============================] - 379s 34s/step - loss: 0.2185 - acc: 0.9233 - mcc: 0.8512 - ppv: 0.8902 - tpr: 0.9673 - val_loss: 53.4533 - val_acc: 0.5267 - val_mcc: 0.1896 - val_ppv: 0.5055 - val_tpr: 1.0000\n",
            "Epoch 3/50\n",
            "11/11 [==============================] - ETA: 0s - loss: 0.2088 - acc: 0.9280 - mcc: 0.8614 - ppv: 0.8882 - tpr: 0.9804 \n",
            "Epoch 00003: val_acc improved from 0.52667 to 0.68167, saving model to Dynamic.h5\n",
            "11/11 [==============================] - 398s 36s/step - loss: 0.2088 - acc: 0.9280 - mcc: 0.8614 - ppv: 0.8882 - tpr: 0.9804 - val_loss: 12.7111 - val_acc: 0.6817 - val_mcc: 0.4339 - val_ppv: 0.6317 - val_tpr: 1.0000\n",
            "Epoch 4/50\n",
            "11/11 [==============================] - ETA: 0s - loss: 0.2015 - acc: 0.9346 - mcc: 0.8728 - ppv: 0.8958 - tpr: 0.9824 \n",
            "Epoch 00004: val_acc improved from 0.68167 to 0.72667, saving model to Dynamic.h5\n",
            "11/11 [==============================] - 391s 35s/step - loss: 0.2015 - acc: 0.9346 - mcc: 0.8728 - ppv: 0.8958 - tpr: 0.9824 - val_loss: 8.4273 - val_acc: 0.7267 - val_mcc: 0.5508 - val_ppv: 0.6486 - val_tpr: 1.0000\n",
            "Epoch 5/50\n",
            "11/11 [==============================] - ETA: 0s - loss: 0.1867 - acc: 0.9407 - mcc: 0.8853 - ppv: 0.9041 - tpr: 0.9863 \n",
            "Epoch 00005: val_acc improved from 0.72667 to 0.80167, saving model to Dynamic.h5\n",
            "11/11 [==============================] - 398s 36s/step - loss: 0.1867 - acc: 0.9407 - mcc: 0.8853 - ppv: 0.9041 - tpr: 0.9863 - val_loss: 2.2636 - val_acc: 0.8017 - val_mcc: 0.6547 - val_ppv: 0.7252 - val_tpr: 1.0000\n",
            "Epoch 6/50\n",
            "11/11 [==============================] - ETA: 0s - loss: 0.1770 - acc: 0.9419 - mcc: 0.8893 - ppv: 0.9081 - tpr: 0.9858 \n",
            "Epoch 00006: val_acc did not improve from 0.80167\n",
            "11/11 [==============================] - 381s 34s/step - loss: 0.1770 - acc: 0.9419 - mcc: 0.8893 - ppv: 0.9081 - tpr: 0.9858 - val_loss: 2.3384 - val_acc: 0.7933 - val_mcc: 0.6492 - val_ppv: 0.7293 - val_tpr: 1.0000\n",
            "Epoch 7/50\n",
            "11/11 [==============================] - ETA: 0s - loss: 0.1725 - acc: 0.9420 - mcc: 0.8884 - ppv: 0.9095 - tpr: 0.9835 \n",
            "Epoch 00007: val_acc improved from 0.80167 to 0.88000, saving model to Dynamic.h5\n",
            "11/11 [==============================] - 404s 37s/step - loss: 0.1725 - acc: 0.9420 - mcc: 0.8884 - ppv: 0.9095 - tpr: 0.9835 - val_loss: 0.9101 - val_acc: 0.8800 - val_mcc: 0.7657 - val_ppv: 0.7869 - val_tpr: 1.0000\n",
            "Epoch 8/50\n",
            "11/11 [==============================] - ETA: 0s - loss: 0.1684 - acc: 0.9454 - mcc: 0.8919 - ppv: 0.9214 - tpr: 0.9741 \n",
            "Epoch 00008: val_acc did not improve from 0.88000\n",
            "11/11 [==============================] - 404s 37s/step - loss: 0.1684 - acc: 0.9454 - mcc: 0.8919 - ppv: 0.9214 - tpr: 0.9741 - val_loss: 0.8472 - val_acc: 0.8683 - val_mcc: 0.7227 - val_ppv: 0.7766 - val_tpr: 1.0000\n",
            "Epoch 9/50\n",
            "11/11 [==============================] - ETA: 0s - loss: 0.1709 - acc: 0.9439 - mcc: 0.8911 - ppv: 0.9118 - tpr: 0.9837 \n",
            "Epoch 00009: val_acc did not improve from 0.88000\n",
            "11/11 [==============================] - 412s 38s/step - loss: 0.1709 - acc: 0.9439 - mcc: 0.8911 - ppv: 0.9118 - tpr: 0.9837 - val_loss: 1.0011 - val_acc: 0.8633 - val_mcc: 0.7472 - val_ppv: 0.7814 - val_tpr: 1.0000\n",
            "Epoch 10/50\n",
            "11/11 [==============================] - ETA: 0s - loss: 0.1801 - acc: 0.9417 - mcc: 0.8847 - ppv: 0.9084 - tpr: 0.9801 \n",
            "Epoch 00010: val_acc improved from 0.88000 to 0.89833, saving model to Dynamic.h5\n",
            "11/11 [==============================] - 394s 35s/step - loss: 0.1801 - acc: 0.9417 - mcc: 0.8847 - ppv: 0.9084 - tpr: 0.9801 - val_loss: 0.3834 - val_acc: 0.8983 - val_mcc: 0.7988 - val_ppv: 0.8096 - val_tpr: 1.0000\n",
            "Epoch 11/50\n",
            "11/11 [==============================] - ETA: 0s - loss: 0.1683 - acc: 0.9407 - mcc: 0.8830 - ppv: 0.9082 - tpr: 0.9789 \n",
            "Epoch 00011: val_acc improved from 0.89833 to 0.92500, saving model to Dynamic.h5\n",
            "11/11 [==============================] - 391s 35s/step - loss: 0.1683 - acc: 0.9407 - mcc: 0.8830 - ppv: 0.9082 - tpr: 0.9789 - val_loss: 0.4336 - val_acc: 0.9250 - val_mcc: 0.8613 - val_ppv: 0.8855 - val_tpr: 0.9874\n",
            "Epoch 12/50\n",
            "11/11 [==============================] - ETA: 0s - loss: 0.1567 - acc: 0.9496 - mcc: 0.9009 - ppv: 0.9203 - tpr: 0.9836 \n",
            "Epoch 00012: val_acc improved from 0.92500 to 0.93000, saving model to Dynamic.h5\n",
            "11/11 [==============================] - 398s 36s/step - loss: 0.1567 - acc: 0.9496 - mcc: 0.9009 - ppv: 0.9203 - tpr: 0.9836 - val_loss: 0.2334 - val_acc: 0.9300 - val_mcc: 0.8733 - val_ppv: 0.9107 - val_tpr: 0.9712\n",
            "Epoch 13/50\n",
            "11/11 [==============================] - ETA: 0s - loss: 0.1676 - acc: 0.9446 - mcc: 0.8905 - ppv: 0.9247 - tpr: 0.9681 \n",
            "Epoch 00013: val_acc did not improve from 0.93000\n",
            "11/11 [==============================] - 413s 37s/step - loss: 0.1676 - acc: 0.9446 - mcc: 0.8905 - ppv: 0.9247 - tpr: 0.9681 - val_loss: 0.2024 - val_acc: 0.9283 - val_mcc: 0.8715 - val_ppv: 0.9074 - val_tpr: 0.9665\n",
            "Epoch 14/50\n",
            "11/11 [==============================] - ETA: 0s - loss: 0.1602 - acc: 0.9476 - mcc: 0.8964 - ppv: 0.9129 - tpr: 0.9873 \n",
            "Epoch 00014: val_acc improved from 0.93000 to 0.94833, saving model to Dynamic.h5\n",
            "11/11 [==============================] - 410s 37s/step - loss: 0.1602 - acc: 0.9476 - mcc: 0.8964 - ppv: 0.9129 - tpr: 0.9873 - val_loss: 0.2033 - val_acc: 0.9483 - val_mcc: 0.8942 - val_ppv: 0.9130 - val_tpr: 0.9795\n",
            "Epoch 15/50\n",
            "11/11 [==============================] - ETA: 0s - loss: 0.1430 - acc: 0.9550 - mcc: 0.9124 - ppv: 0.9365 - tpr: 0.9777 \n",
            "Epoch 00015: val_acc did not improve from 0.94833\n",
            "11/11 [==============================] - 402s 36s/step - loss: 0.1430 - acc: 0.9550 - mcc: 0.9124 - ppv: 0.9365 - tpr: 0.9777 - val_loss: 0.2833 - val_acc: 0.9317 - val_mcc: 0.8855 - val_ppv: 0.8997 - val_tpr: 0.9866\n",
            "Epoch 16/50\n",
            "11/11 [==============================] - ETA: 0s - loss: 0.1433 - acc: 0.9517 - mcc: 0.9045 - ppv: 0.9287 - tpr: 0.9788 \n",
            "Epoch 00016: val_acc did not improve from 0.94833\n",
            "11/11 [==============================] - 408s 37s/step - loss: 0.1433 - acc: 0.9517 - mcc: 0.9045 - ppv: 0.9287 - tpr: 0.9788 - val_loss: 0.2525 - val_acc: 0.9117 - val_mcc: 0.8311 - val_ppv: 0.9296 - val_tpr: 0.8971\n",
            "Epoch 17/50\n",
            "11/11 [==============================] - ETA: 0s - loss: 0.1424 - acc: 0.9539 - mcc: 0.9104 - ppv: 0.9291 - tpr: 0.9838 \n",
            "Epoch 00017: val_acc did not improve from 0.94833\n",
            "11/11 [==============================] - 420s 38s/step - loss: 0.1424 - acc: 0.9539 - mcc: 0.9104 - ppv: 0.9291 - tpr: 0.9838 - val_loss: 0.2299 - val_acc: 0.9267 - val_mcc: 0.8748 - val_ppv: 0.9312 - val_tpr: 0.9381\n",
            "Epoch 18/50\n",
            "11/11 [==============================] - ETA: 0s - loss: 0.1290 - acc: 0.9604 - mcc: 0.9223 - ppv: 0.9368 - tpr: 0.9877 \n",
            "Epoch 00018: val_acc did not improve from 0.94833\n",
            "11/11 [==============================] - 416s 38s/step - loss: 0.1290 - acc: 0.9604 - mcc: 0.9223 - ppv: 0.9368 - tpr: 0.9877 - val_loss: 0.2675 - val_acc: 0.9233 - val_mcc: 0.8545 - val_ppv: 0.9461 - val_tpr: 0.9065\n",
            "Epoch 19/50\n",
            "11/11 [==============================] - ETA: 0s - loss: 0.1361 - acc: 0.9546 - mcc: 0.9117 - ppv: 0.9303 - tpr: 0.9840 \n",
            "Epoch 00019: val_acc did not improve from 0.94833\n",
            "11/11 [==============================] - 391s 35s/step - loss: 0.1361 - acc: 0.9546 - mcc: 0.9117 - ppv: 0.9303 - tpr: 0.9840 - val_loss: 0.6803 - val_acc: 0.7733 - val_mcc: 0.6444 - val_ppv: 0.9932 - val_tpr: 0.5783\n",
            "Epoch 20/50\n",
            "11/11 [==============================] - ETA: 0s - loss: 0.1327 - acc: 0.9537 - mcc: 0.9072 - ppv: 0.9280 - tpr: 0.9817 \n",
            "Epoch 00020: val_acc did not improve from 0.94833\n",
            "11/11 [==============================] - 402s 36s/step - loss: 0.1327 - acc: 0.9537 - mcc: 0.9072 - ppv: 0.9280 - tpr: 0.9817 - val_loss: 1.0365 - val_acc: 0.7383 - val_mcc: 0.5876 - val_ppv: 0.9872 - val_tpr: 0.5426\n",
            "Epoch 21/50\n",
            "11/11 [==============================] - ETA: 0s - loss: 0.1263 - acc: 0.9580 - mcc: 0.9180 - ppv: 0.9344 - tpr: 0.9859 \n",
            "Epoch 00021: val_acc did not improve from 0.94833\n",
            "11/11 [==============================] - 414s 38s/step - loss: 0.1263 - acc: 0.9580 - mcc: 0.9180 - ppv: 0.9344 - tpr: 0.9859 - val_loss: 0.7025 - val_acc: 0.7800 - val_mcc: 0.6111 - val_ppv: 0.9468 - val_tpr: 0.5945\n",
            "Epoch 22/50\n",
            "11/11 [==============================] - ETA: 0s - loss: 0.1319 - acc: 0.9565 - mcc: 0.9139 - ppv: 0.9323 - tpr: 0.9840 \n",
            "Epoch 00022: val_acc did not improve from 0.94833\n",
            "11/11 [==============================] - 403s 36s/step - loss: 0.1319 - acc: 0.9565 - mcc: 0.9139 - ppv: 0.9323 - tpr: 0.9840 - val_loss: 0.5684 - val_acc: 0.8233 - val_mcc: 0.6505 - val_ppv: 0.9426 - val_tpr: 0.6510\n",
            "Epoch 23/50\n",
            "11/11 [==============================] - ETA: 0s - loss: 0.1246 - acc: 0.9609 - mcc: 0.9233 - ppv: 0.9400 - tpr: 0.9849 \n",
            "Epoch 00023: val_acc did not improve from 0.94833\n",
            "11/11 [==============================] - 395s 36s/step - loss: 0.1246 - acc: 0.9609 - mcc: 0.9233 - ppv: 0.9400 - tpr: 0.9849 - val_loss: 0.5129 - val_acc: 0.8483 - val_mcc: 0.7364 - val_ppv: 0.9893 - val_tpr: 0.7118\n",
            "Epoch 24/50\n",
            "11/11 [==============================] - ETA: 0s - loss: 0.1190 - acc: 0.9613 - mcc: 0.9235 - ppv: 0.9388 - tpr: 0.9864 \n",
            "Epoch 00024: val_acc did not improve from 0.94833\n",
            "11/11 [==============================] - 416s 38s/step - loss: 0.1190 - acc: 0.9613 - mcc: 0.9235 - ppv: 0.9388 - tpr: 0.9864 - val_loss: 0.4384 - val_acc: 0.8783 - val_mcc: 0.7659 - val_ppv: 0.9593 - val_tpr: 0.7824\n",
            "Epoch 25/50\n",
            "11/11 [==============================] - ETA: 0s - loss: 0.1233 - acc: 0.9641 - mcc: 0.9291 - ppv: 0.9426 - tpr: 0.9882 \n",
            "Epoch 00025: val_acc did not improve from 0.94833\n",
            "11/11 [==============================] - 419s 38s/step - loss: 0.1233 - acc: 0.9641 - mcc: 0.9291 - ppv: 0.9426 - tpr: 0.9882 - val_loss: 0.3472 - val_acc: 0.8967 - val_mcc: 0.7739 - val_ppv: 0.9468 - val_tpr: 0.8118\n",
            "Epoch 26/50\n",
            "11/11 [==============================] - ETA: 0s - loss: 0.1147 - acc: 0.9654 - mcc: 0.9308 - ppv: 0.9430 - tpr: 0.9888 \n",
            "Epoch 00026: val_acc did not improve from 0.94833\n",
            "11/11 [==============================] - 414s 38s/step - loss: 0.1147 - acc: 0.9654 - mcc: 0.9308 - ppv: 0.9430 - tpr: 0.9888 - val_loss: 0.4194 - val_acc: 0.8917 - val_mcc: 0.8045 - val_ppv: 0.9976 - val_tpr: 0.7841\n",
            "Epoch 27/50\n",
            "11/11 [==============================] - ETA: 0s - loss: 0.1178 - acc: 0.9631 - mcc: 0.9262 - ppv: 0.9414 - tpr: 0.9868 \n",
            "Epoch 00027: val_acc did not improve from 0.94833\n",
            "11/11 [==============================] - 402s 36s/step - loss: 0.1178 - acc: 0.9631 - mcc: 0.9262 - ppv: 0.9414 - tpr: 0.9868 - val_loss: 0.2309 - val_acc: 0.9300 - val_mcc: 0.8253 - val_ppv: 0.9397 - val_tpr: 0.8856\n",
            "Epoch 28/50\n",
            "11/11 [==============================] - ETA: 0s - loss: 0.1268 - acc: 0.9615 - mcc: 0.9239 - ppv: 0.9386 - tpr: 0.9871 \n",
            "Epoch 00028: val_acc did not improve from 0.94833\n",
            "11/11 [==============================] - 412s 37s/step - loss: 0.1268 - acc: 0.9615 - mcc: 0.9239 - ppv: 0.9386 - tpr: 0.9871 - val_loss: 0.2623 - val_acc: 0.9417 - val_mcc: 0.8657 - val_ppv: 0.9334 - val_tpr: 0.9359\n",
            "Epoch 29/50\n",
            "11/11 [==============================] - ETA: 0s - loss: 0.1160 - acc: 0.9644 - mcc: 0.9287 - ppv: 0.9464 - tpr: 0.9840 \n",
            "Epoch 00029: val_acc improved from 0.94833 to 0.96500, saving model to Dynamic.h5\n",
            "11/11 [==============================] - 404s 38s/step - loss: 0.1160 - acc: 0.9644 - mcc: 0.9287 - ppv: 0.9464 - tpr: 0.9840 - val_loss: 0.1293 - val_acc: 0.9650 - val_mcc: 0.9130 - val_ppv: 0.9722 - val_tpr: 0.9389\n",
            "Epoch 30/50\n",
            "11/11 [==============================] - ETA: 0s - loss: 0.1189 - acc: 0.9622 - mcc: 0.9247 - ppv: 0.9388 - tpr: 0.9878 \n",
            "Epoch 00030: val_acc did not improve from 0.96500\n",
            "11/11 [==============================] - 417s 38s/step - loss: 0.1189 - acc: 0.9622 - mcc: 0.9247 - ppv: 0.9388 - tpr: 0.9878 - val_loss: 0.2810 - val_acc: 0.8967 - val_mcc: 0.8004 - val_ppv: 0.9835 - val_tpr: 0.8100\n",
            "Epoch 31/50\n",
            "11/11 [==============================] - ETA: 0s - loss: 0.1039 - acc: 0.9683 - mcc: 0.9378 - ppv: 0.9498 - tpr: 0.9893 \n",
            "Epoch 00031: val_acc did not improve from 0.96500\n",
            "11/11 [==============================] - 401s 38s/step - loss: 0.1039 - acc: 0.9683 - mcc: 0.9378 - ppv: 0.9498 - tpr: 0.9893 - val_loss: 0.2503 - val_acc: 0.9333 - val_mcc: 0.8636 - val_ppv: 0.9172 - val_tpr: 0.9356\n",
            "Epoch 32/50\n",
            "11/11 [==============================] - ETA: 0s - loss: 0.1090 - acc: 0.9630 - mcc: 0.9275 - ppv: 0.9482 - tpr: 0.9805 \n",
            "Epoch 00032: val_acc did not improve from 0.96500\n",
            "11/11 [==============================] - 419s 38s/step - loss: 0.1090 - acc: 0.9630 - mcc: 0.9275 - ppv: 0.9482 - tpr: 0.9805 - val_loss: 0.2424 - val_acc: 0.9417 - val_mcc: 0.9035 - val_ppv: 0.9483 - val_tpr: 0.9554\n",
            "Epoch 33/50\n",
            "11/11 [==============================] - ETA: 0s - loss: 0.0987 - acc: 0.9700 - mcc: 0.9391 - ppv: 0.9521 - tpr: 0.9883 \n",
            "Epoch 00033: val_acc did not improve from 0.96500\n",
            "11/11 [==============================] - 408s 37s/step - loss: 0.0987 - acc: 0.9700 - mcc: 0.9391 - ppv: 0.9521 - tpr: 0.9883 - val_loss: 0.2324 - val_acc: 0.9183 - val_mcc: 0.8294 - val_ppv: 0.9849 - val_tpr: 0.8289\n",
            "Epoch 34/50\n",
            "11/11 [==============================] - ETA: 0s - loss: 0.1060 - acc: 0.9626 - mcc: 0.9263 - ppv: 0.9488 - tpr: 0.9792 \n",
            "Epoch 00034: val_acc did not improve from 0.96500\n",
            "11/11 [==============================] - 400s 35s/step - loss: 0.1060 - acc: 0.9626 - mcc: 0.9263 - ppv: 0.9488 - tpr: 0.9792 - val_loss: 0.3587 - val_acc: 0.8700 - val_mcc: 0.7737 - val_ppv: 0.9633 - val_tpr: 0.7846\n",
            "Epoch 35/50\n",
            "11/11 [==============================] - ETA: 0s - loss: 0.1137 - acc: 0.9626 - mcc: 0.9275 - ppv: 0.9447 - tpr: 0.9839 \n",
            "Epoch 00035: val_acc did not improve from 0.96500\n",
            "11/11 [==============================] - 411s 37s/step - loss: 0.1137 - acc: 0.9626 - mcc: 0.9275 - ppv: 0.9447 - tpr: 0.9839 - val_loss: 0.3552 - val_acc: 0.9117 - val_mcc: 0.8127 - val_ppv: 0.9290 - val_tpr: 0.8743\n",
            "Epoch 36/50\n",
            "11/11 [==============================] - ETA: 0s - loss: 0.0952 - acc: 0.9691 - mcc: 0.9382 - ppv: 0.9543 - tpr: 0.9850 \n",
            "Epoch 00036: val_acc did not improve from 0.96500\n",
            "11/11 [==============================] - 416s 38s/step - loss: 0.0952 - acc: 0.9691 - mcc: 0.9382 - ppv: 0.9543 - tpr: 0.9850 - val_loss: 0.2711 - val_acc: 0.9350 - val_mcc: 0.8338 - val_ppv: 0.9585 - val_tpr: 0.8642\n",
            "Epoch 37/50\n",
            "11/11 [==============================] - ETA: 0s - loss: 0.0973 - acc: 0.9717 - mcc: 0.9438 - ppv: 0.9536 - tpr: 0.9912 \n",
            "Epoch 00037: val_acc did not improve from 0.96500\n",
            "11/11 [==============================] - 415s 38s/step - loss: 0.0973 - acc: 0.9717 - mcc: 0.9438 - ppv: 0.9536 - tpr: 0.9912 - val_loss: 0.5533 - val_acc: 0.8817 - val_mcc: 0.7949 - val_ppv: 0.9647 - val_tpr: 0.8104\n",
            "Epoch 38/50\n",
            "11/11 [==============================] - ETA: 0s - loss: 0.0951 - acc: 0.9731 - mcc: 0.9472 - ppv: 0.9559 - tpr: 0.9924 \n",
            "Epoch 00038: val_acc did not improve from 0.96500\n",
            "11/11 [==============================] - 405s 36s/step - loss: 0.0951 - acc: 0.9731 - mcc: 0.9472 - ppv: 0.9559 - tpr: 0.9924 - val_loss: 0.4453 - val_acc: 0.8933 - val_mcc: 0.8065 - val_ppv: 0.9616 - val_tpr: 0.8295\n",
            "Epoch 39/50\n",
            "11/11 [==============================] - ETA: 0s - loss: 0.0928 - acc: 0.9715 - mcc: 0.9438 - ppv: 0.9547 - tpr: 0.9900 \n",
            "Epoch 00039: val_acc did not improve from 0.96500\n",
            "11/11 [==============================] - 417s 38s/step - loss: 0.0928 - acc: 0.9715 - mcc: 0.9438 - ppv: 0.9547 - tpr: 0.9900 - val_loss: 0.6804 - val_acc: 0.8317 - val_mcc: 0.7058 - val_ppv: 0.9835 - val_tpr: 0.6960\n",
            "Epoch 40/50\n",
            "11/11 [==============================] - ETA: 0s - loss: 0.0818 - acc: 0.9746 - mcc: 0.9494 - ppv: 0.9573 - tpr: 0.9927 \n",
            "Epoch 00040: val_acc did not improve from 0.96500\n",
            "11/11 [==============================] - 405s 36s/step - loss: 0.0818 - acc: 0.9746 - mcc: 0.9494 - ppv: 0.9573 - tpr: 0.9927 - val_loss: 0.6652 - val_acc: 0.8733 - val_mcc: 0.7639 - val_ppv: 0.9672 - val_tpr: 0.7810\n",
            "Epoch 41/50\n",
            "11/11 [==============================] - ETA: 0s - loss: 0.0965 - acc: 0.9696 - mcc: 0.9397 - ppv: 0.9548 - tpr: 0.9861 \n",
            "Epoch 00041: val_acc did not improve from 0.96500\n",
            "11/11 [==============================] - 389s 36s/step - loss: 0.0965 - acc: 0.9696 - mcc: 0.9397 - ppv: 0.9548 - tpr: 0.9861 - val_loss: 0.5392 - val_acc: 0.8550 - val_mcc: 0.7394 - val_ppv: 0.9946 - val_tpr: 0.7170\n",
            "Epoch 42/50\n",
            "11/11 [==============================] - ETA: 0s - loss: 0.0907 - acc: 0.9706 - mcc: 0.9426 - ppv: 0.9497 - tpr: 0.9941 \n",
            "Epoch 00042: val_acc did not improve from 0.96500\n",
            "11/11 [==============================] - 402s 38s/step - loss: 0.0907 - acc: 0.9706 - mcc: 0.9426 - ppv: 0.9497 - tpr: 0.9941 - val_loss: 0.1693 - val_acc: 0.9567 - val_mcc: 0.9119 - val_ppv: 0.9646 - val_tpr: 0.9456\n",
            "Epoch 43/50\n",
            "11/11 [==============================] - ETA: 0s - loss: 0.0837 - acc: 0.9726 - mcc: 0.9458 - ppv: 0.9594 - tpr: 0.9871 \n",
            "Epoch 00043: val_acc did not improve from 0.96500\n",
            "11/11 [==============================] - 400s 36s/step - loss: 0.0837 - acc: 0.9726 - mcc: 0.9458 - ppv: 0.9594 - tpr: 0.9871 - val_loss: 0.2547 - val_acc: 0.9533 - val_mcc: 0.9080 - val_ppv: 0.9448 - val_tpr: 0.9669\n",
            "Epoch 44/50\n",
            "11/11 [==============================] - ETA: 0s - loss: 0.0903 - acc: 0.9726 - mcc: 0.9459 - ppv: 0.9587 - tpr: 0.9882 \n",
            "Epoch 00044: val_acc did not improve from 0.96500\n",
            "11/11 [==============================] - 418s 38s/step - loss: 0.0903 - acc: 0.9726 - mcc: 0.9459 - ppv: 0.9587 - tpr: 0.9882 - val_loss: 0.3361 - val_acc: 0.8983 - val_mcc: 0.7809 - val_ppv: 0.8547 - val_tpr: 0.9313\n",
            "Epoch 45/50\n",
            "11/11 [==============================] - ETA: 0s - loss: 0.0741 - acc: 0.9767 - mcc: 0.9533 - ppv: 0.9619 - tpr: 0.9919 \n",
            "Epoch 00045: val_acc did not improve from 0.96500\n",
            "11/11 [==============================] - 410s 37s/step - loss: 0.0741 - acc: 0.9767 - mcc: 0.9533 - ppv: 0.9619 - tpr: 0.9919 - val_loss: 0.2939 - val_acc: 0.9233 - val_mcc: 0.8651 - val_ppv: 0.9297 - val_tpr: 0.9297\n",
            "Epoch 46/50\n",
            "11/11 [==============================] - ETA: 0s - loss: 0.0904 - acc: 0.9711 - mcc: 0.9423 - ppv: 0.9557 - tpr: 0.9874 \n",
            "Epoch 00046: val_acc did not improve from 0.96500\n",
            "11/11 [==============================] - 411s 39s/step - loss: 0.0904 - acc: 0.9711 - mcc: 0.9423 - ppv: 0.9557 - tpr: 0.9874 - val_loss: 0.2507 - val_acc: 0.9400 - val_mcc: 0.9033 - val_ppv: 0.9772 - val_tpr: 0.9219\n",
            "Epoch 47/50\n",
            "11/11 [==============================] - ETA: 0s - loss: 0.0831 - acc: 0.9759 - mcc: 0.9504 - ppv: 0.9624 - tpr: 0.9887 \n",
            "Epoch 00047: val_acc did not improve from 0.96500\n",
            "11/11 [==============================] - 410s 37s/step - loss: 0.0831 - acc: 0.9759 - mcc: 0.9504 - ppv: 0.9624 - tpr: 0.9887 - val_loss: 0.3803 - val_acc: 0.9117 - val_mcc: 0.8391 - val_ppv: 0.9822 - val_tpr: 0.8477\n",
            "Epoch 48/50\n",
            "11/11 [==============================] - ETA: 0s - loss: 0.0870 - acc: 0.9735 - mcc: 0.9481 - ppv: 0.9609 - tpr: 0.9880 \n",
            "Epoch 00048: val_acc did not improve from 0.96500\n",
            "11/11 [==============================] - 394s 35s/step - loss: 0.0870 - acc: 0.9735 - mcc: 0.9481 - ppv: 0.9609 - tpr: 0.9880 - val_loss: 0.2552 - val_acc: 0.9250 - val_mcc: 0.8572 - val_ppv: 0.9546 - val_tpr: 0.8971\n",
            "Epoch 49/50\n",
            "11/11 [==============================] - ETA: 0s - loss: 0.0746 - acc: 0.9728 - mcc: 0.9462 - ppv: 0.9596 - tpr: 0.9874 \n",
            "Epoch 00049: val_acc did not improve from 0.96500\n",
            "11/11 [==============================] - 416s 38s/step - loss: 0.0746 - acc: 0.9728 - mcc: 0.9462 - ppv: 0.9596 - tpr: 0.9874 - val_loss: 0.4325 - val_acc: 0.8983 - val_mcc: 0.7912 - val_ppv: 0.9458 - val_tpr: 0.8221\n",
            "Epoch 50/50\n",
            "11/11 [==============================] - ETA: 0s - loss: 0.0689 - acc: 0.9802 - mcc: 0.9621 - ppv: 0.9680 - tpr: 0.9945 \n",
            "Epoch 00050: val_acc did not improve from 0.96500\n",
            "11/11 [==============================] - 407s 37s/step - loss: 0.0689 - acc: 0.9802 - mcc: 0.9621 - ppv: 0.9680 - tpr: 0.9945 - val_loss: 0.3431 - val_acc: 0.9233 - val_mcc: 0.8382 - val_ppv: 0.9612 - val_tpr: 0.8644\n"
          ]
        }
      ],
      "source": [
        "history = model.fit(\n",
        "    ProLigSequence(raw_training_train_data, batch_size=512, max_dist=40, grid_resolution=4, sparse=False),\n",
        "    validation_data=ProLigSequence(raw_training_test_data, batch_size=512, max_dist=40, grid_resolution=4, sparse=False),\n",
        "    epochs=50,\n",
        "    initial_epoch=0,\n",
        "    use_multiprocessing=True,\n",
        "    workers=8,\n",
        "    callbacks=[ModelCheckpoint('/content/drive/MyDrive/BS6207/project/best_model_val_acc.h5',\n",
        "                           monitor='val_acc',\n",
        "                           verbose=1,\n",
        "                           save_best_only=True,\n",
        "                           mode='max'),\n",
        "              TensorBoard()])"
      ]
    },
    {
      "cell_type": "code",
      "execution_count": null,
      "metadata": {
        "colab": {
          "base_uri": "https://localhost:8080/",
          "height": 295
        },
        "id": "avfmLd0gLgeN",
        "outputId": "0408fec8-503a-457b-bf8f-c6cb0a466370"
      },
      "outputs": [
        {
          "data": {
            "image/png": "[encoded data removed]",
            "text/plain": [
              "<Figure size 432x288 with 1 Axes>"
            ]
          },
          "metadata": {},
          "output_type": "display_data"
        }
      ],
      "source": [
        "# https://machinelearningmastery.com/display-deep-learning-model-training-history-in-keras/\n",
        "\n",
        "# summarize history for accuracy\n",
        "plt.plot(history.history['acc'])\n",
        "plt.plot(history.history['val_acc'])\n",
        "plt.title('model accuracy')\n",
        "plt.ylabel('accuracy')\n",
        "plt.xlabel('epoch')\n",
        "plt.legend(['train', 'test'], loc='best')\n",
        "plt.show()"
      ]
    },
    {
      "cell_type": "code",
      "execution_count": null,
      "metadata": {
        "colab": {
          "base_uri": "https://localhost:8080/",
          "height": 295
        },
        "id": "aCDcYeaChCAq",
        "outputId": "942c3794-11a2-4997-89d7-fc043991edde"
      },
      "outputs": [
        {
          "data": {
            "image/png": "[encoded data removed]",
            "text/plain": [
              "<Figure size 432x288 with 1 Axes>"
            ]
          },
          "metadata": {},
          "output_type": "display_data"
        }
      ],
      "source": [
        "# https://machinelearningmastery.com/display-deep-learning-model-training-history-in-keras/\n",
        "\n",
        "# summarize history for accuracy\n",
        "plt.plot(history.history['tpr'])\n",
        "plt.plot(history.history['val_tpr'])\n",
        "plt.title('model true positive rate')\n",
        "plt.ylabel('true positive rate')\n",
        "plt.xlabel('epoch')\n",
        "plt.legend(['train', 'test'], loc='best')\n",
        "plt.show()"
      ]
    },
    {
      "cell_type": "code",
      "execution_count": null,
      "metadata": {
        "colab": {
          "base_uri": "https://localhost:8080/",
          "height": 295
        },
        "id": "-k6BOLTTOMmb",
        "outputId": "197d7947-2168-45c3-bcbc-ceb690c1bf07"
      },
      "outputs": [
        {
          "data": {
            "image/png": "[encoded data removed]",
            "text/plain": [
              "<Figure size 432x288 with 1 Axes>"
            ]
          },
          "metadata": {},
          "output_type": "display_data"
        }
      ],
      "source": [
        "# https://machinelearningmastery.com/display-deep-learning-model-training-history-in-keras/\n",
        "\n",
        "# summarize history for accuracy\n",
        "plt.plot(history.history['mcc'])\n",
        "plt.plot(history.history['val_mcc'])\n",
        "plt.title('model Matthews correlation coefficient')\n",
        "plt.ylabel('Matthews correlation coefficient')\n",
        "plt.xlabel('epoch')\n",
        "plt.legend(['train', 'test'], loc='best')\n",
        "plt.show()"
      ]
    },
    {
      "cell_type": "code",
      "execution_count": null,
      "metadata": {
        "colab": {
          "base_uri": "https://localhost:8080/",
          "height": 295
        },
        "id": "ksmQLP-HOigx",
        "outputId": "86b30d08-9794-4973-d879-9243ce5267c1"
      },
      "outputs": [
        {
          "data": {
            "image/png": "[encoded data removed]",
            "text/plain": [
              "<Figure size 432x288 with 1 Axes>"
            ]
          },
          "metadata": {},
          "output_type": "display_data"
        }
      ],
      "source": [
        "# https://machinelearningmastery.com/display-deep-learning-model-training-history-in-keras/\n",
        "\n",
        "# summarize history for accuracy\n",
        "plt.plot(history.history['loss'])\n",
        "plt.plot(history.history['val_loss'])\n",
        "plt.title('model loss')\n",
        "plt.ylabel('loss')\n",
        "plt.xlabel('epoch')\n",
        "plt.legend(['train', 'test'], loc='best')\n",
        "plt.show()"
      ]
    },
    {
      "cell_type": "code",
      "execution_count": null,
      "metadata": {
        "colab": {
          "base_uri": "https://localhost:8080/",
          "height": 295
        },
        "id": "-J5dzEfLO1Sw",
        "outputId": "90ace0fa-7df0-4a6a-a3d6-f05a1ba5e604"
      },
      "outputs": [
        {
          "data": {
            "image/png": "[encoded data removed]",
            "text/plain": [
              "<Figure size 432x288 with 1 Axes>"
            ]
          },
          "metadata": {},
          "output_type": "display_data"
        }
      ],
      "source": [
        "# https://machinelearningmastery.com/display-deep-learning-model-training-history-in-keras/\n",
        "\n",
        "# summarize history for accuracy\n",
        "plt.plot(history.history['ppv'])\n",
        "plt.plot(history.history['val_ppv'])\n",
        "plt.title('model positive predictive values')\n",
        "plt.ylabel('positive predictive values')\n",
        "plt.xlabel('epoch')\n",
        "plt.legend(['train', 'test'], loc='best')\n",
        "plt.show()"
      ]
    },
    {
      "cell_type": "code",
      "execution_count": null,
      "metadata": {
        "colab": {
          "background_save": true,
          "base_uri": "https://localhost:8080/"
        },
        "id": "1GKa3pkWOG8M",
        "outputId": "f3311713-8c22-452b-c323-f99cb8cc2824"
      },
      "outputs": [
        {
          "name": "stdout",
          "output_type": "stream",
          "text": [
            "Epoch 1/20\n",
            "11/11 [==============================] - ETA: 0s - loss: 0.0671 - acc: 0.9822 - mcc: 0.9652 - ppv: 0.9743 - tpr: 0.9912 \n",
            "Epoch 00001: val_tpr improved from -inf to 0.91503, saving model to /content/drive/MyDrive/BS6207/project/best_model_val_tpr.h5\n"
          ]
        },
        {
          "name": "stderr",
          "output_type": "stream",
          "text": [
            "/usr/local/lib/python3.7/dist-packages/keras/engine/functional.py:1410: CustomMaskWarning: Custom mask layers require a config and must override get_config. When loading, the custom mask layer must be passed to the custom_objects argument.\n",
            "  layer_config = serialize_layer_fn(layer)\n"
          ]
        },
        {
          "name": "stdout",
          "output_type": "stream",
          "text": [
            "11/11 [==============================] - 457s 41s/step - loss: 0.0671 - acc: 0.9822 - mcc: 0.9652 - ppv: 0.9743 - tpr: 0.9912 - val_loss: 0.3466 - val_acc: 0.9350 - val_mcc: 0.9079 - val_ppv: 0.9890 - val_tpr: 0.9150\n",
            "Epoch 2/20\n",
            "11/11 [==============================] - ETA: 0s - loss: 0.0765 - acc: 0.9789 - mcc: 0.9574 - ppv: 0.9656 - tpr: 0.9923 \n",
            "Epoch 00002: val_tpr improved from 0.91503 to 0.92940, saving model to /content/drive/MyDrive/BS6207/project/best_model_val_tpr.h5\n",
            "11/11 [==============================] - 426s 39s/step - loss: 0.0765 - acc: 0.9789 - mcc: 0.9574 - ppv: 0.9656 - tpr: 0.9923 - val_loss: 0.2850 - val_acc: 0.9400 - val_mcc: 0.8827 - val_ppv: 0.9499 - val_tpr: 0.9294\n",
            "Epoch 3/20\n",
            "11/11 [==============================] - ETA: 0s - loss: 0.0745 - acc: 0.9796 - mcc: 0.9601 - ppv: 0.9667 - tpr: 0.9941 \n",
            "Epoch 00003: val_tpr did not improve from 0.92940\n",
            "11/11 [==============================] - 416s 38s/step - loss: 0.0745 - acc: 0.9796 - mcc: 0.9601 - ppv: 0.9667 - tpr: 0.9941 - val_loss: 0.3824 - val_acc: 0.9100 - val_mcc: 0.8316 - val_ppv: 0.9523 - val_tpr: 0.8739\n",
            "Epoch 4/20\n",
            "11/11 [==============================] - ETA: 0s - loss: 0.0654 - acc: 0.9791 - mcc: 0.9594 - ppv: 0.9675 - tpr: 0.9923 \n",
            "Epoch 00004: val_tpr did not improve from 0.92940\n",
            "11/11 [==============================] - 410s 37s/step - loss: 0.0654 - acc: 0.9791 - mcc: 0.9594 - ppv: 0.9675 - tpr: 0.9923 - val_loss: 0.3968 - val_acc: 0.9167 - val_mcc: 0.8611 - val_ppv: 0.9845 - val_tpr: 0.8679\n",
            "Epoch 5/20\n",
            "11/11 [==============================] - ETA: 0s - loss: 0.0798 - acc: 0.9776 - mcc: 0.9554 - ppv: 0.9675 - tpr: 0.9885 \n",
            "Epoch 00005: val_tpr did not improve from 0.92940\n",
            "11/11 [==============================] - 401s 36s/step - loss: 0.0798 - acc: 0.9776 - mcc: 0.9554 - ppv: 0.9675 - tpr: 0.9885 - val_loss: 0.3705 - val_acc: 0.9250 - val_mcc: 0.8515 - val_ppv: 0.9762 - val_tpr: 0.8674\n",
            "Epoch 6/20\n",
            "11/11 [==============================] - ETA: 0s - loss: 0.0671 - acc: 0.9780 - mcc: 0.9550 - ppv: 0.9677 - tpr: 0.9877 \n",
            "Epoch 00006: val_tpr improved from 0.92940 to 0.95520, saving model to /content/drive/MyDrive/BS6207/project/best_model_val_tpr.h5\n",
            "11/11 [==============================] - 430s 39s/step - loss: 0.0671 - acc: 0.9780 - mcc: 0.9550 - ppv: 0.9677 - tpr: 0.9877 - val_loss: 0.1803 - val_acc: 0.9483 - val_mcc: 0.8920 - val_ppv: 0.9325 - val_tpr: 0.9552\n",
            "Epoch 7/20\n",
            "11/11 [==============================] - ETA: 0s - loss: 0.0814 - acc: 0.9767 - mcc: 0.9550 - ppv: 0.9611 - tpr: 0.9948 \n",
            "Epoch 00007: val_tpr did not improve from 0.95520\n",
            "11/11 [==============================] - 428s 39s/step - loss: 0.0814 - acc: 0.9767 - mcc: 0.9550 - ppv: 0.9611 - tpr: 0.9948 - val_loss: 0.2698 - val_acc: 0.9283 - val_mcc: 0.8986 - val_ppv: 0.9749 - val_tpr: 0.9206\n",
            "Epoch 8/20\n",
            "11/11 [==============================] - ETA: 0s - loss: 0.0735 - acc: 0.9796 - mcc: 0.9601 - ppv: 0.9674 - tpr: 0.9934 \n",
            "Epoch 00008: val_tpr did not improve from 0.95520\n",
            "11/11 [==============================] - 442s 40s/step - loss: 0.0735 - acc: 0.9796 - mcc: 0.9601 - ppv: 0.9674 - tpr: 0.9934 - val_loss: 0.2162 - val_acc: 0.9383 - val_mcc: 0.8923 - val_ppv: 0.9796 - val_tpr: 0.9078\n",
            "Epoch 9/20\n",
            "11/11 [==============================] - ETA: 0s - loss: 0.0699 - acc: 0.9787 - mcc: 0.9585 - ppv: 0.9690 - tpr: 0.9899 \n",
            "Epoch 00009: val_tpr did not improve from 0.95520\n",
            "11/11 [==============================] - 451s 41s/step - loss: 0.0699 - acc: 0.9787 - mcc: 0.9585 - ppv: 0.9690 - tpr: 0.9899 - val_loss: 0.1667 - val_acc: 0.9550 - val_mcc: 0.9104 - val_ppv: 0.9843 - val_tpr: 0.9187\n",
            "Epoch 10/20\n",
            "11/11 [==============================] - ETA: 0s - loss: 0.0699 - acc: 0.9800 - mcc: 0.9607 - ppv: 0.9693 - tpr: 0.9916 \n",
            "Epoch 00010: val_tpr did not improve from 0.95520\n",
            "11/11 [==============================] - 453s 41s/step - loss: 0.0699 - acc: 0.9800 - mcc: 0.9607 - ppv: 0.9693 - tpr: 0.9916 - val_loss: 0.3098 - val_acc: 0.9400 - val_mcc: 0.8513 - val_ppv: 0.9746 - val_tpr: 0.8717\n",
            "Epoch 11/20\n",
            "11/11 [==============================] - ETA: 0s - loss: 0.0700 - acc: 0.9804 - mcc: 0.9619 - ppv: 0.9665 - tpr: 0.9962 \n",
            "Epoch 00011: val_tpr did not improve from 0.95520\n",
            "11/11 [==============================] - 429s 39s/step - loss: 0.0700 - acc: 0.9804 - mcc: 0.9619 - ppv: 0.9665 - tpr: 0.9962 - val_loss: 0.4778 - val_acc: 0.9083 - val_mcc: 0.8120 - val_ppv: 0.9481 - val_tpr: 0.8511\n",
            "Epoch 12/20\n",
            "11/11 [==============================] - ETA: 0s - loss: 0.0774 - acc: 0.9780 - mcc: 0.9573 - ppv: 0.9694 - tpr: 0.9885 \n",
            "Epoch 00012: val_tpr did not improve from 0.95520\n",
            "11/11 [==============================] - 452s 41s/step - loss: 0.0774 - acc: 0.9780 - mcc: 0.9573 - ppv: 0.9694 - tpr: 0.9885 - val_loss: 0.2497 - val_acc: 0.9417 - val_mcc: 0.8614 - val_ppv: 0.9801 - val_tpr: 0.8719\n",
            "Epoch 13/20\n",
            "11/11 [==============================] - ETA: 0s - loss: 0.0647 - acc: 0.9815 - mcc: 0.9640 - ppv: 0.9700 - tpr: 0.9944 \n",
            "Epoch 00013: val_tpr did not improve from 0.95520\n",
            "11/11 [==============================] - 439s 41s/step - loss: 0.0647 - acc: 0.9815 - mcc: 0.9640 - ppv: 0.9700 - tpr: 0.9944 - val_loss: 0.2812 - val_acc: 0.9350 - val_mcc: 0.8768 - val_ppv: 0.9460 - val_tpr: 0.9320\n",
            "Epoch 14/20\n",
            "11/11 [==============================] - ETA: 0s - loss: 0.0688 - acc: 0.9798 - mcc: 0.9598 - ppv: 0.9689 - tpr: 0.9913 \n",
            "Epoch 00014: val_tpr did not improve from 0.95520\n",
            "11/11 [==============================] - 426s 40s/step - loss: 0.0688 - acc: 0.9798 - mcc: 0.9598 - ppv: 0.9689 - tpr: 0.9913 - val_loss: 0.3173 - val_acc: 0.9317 - val_mcc: 0.8637 - val_ppv: 0.9389 - val_tpr: 0.9223\n",
            "Epoch 15/20\n",
            "11/11 [==============================] - ETA: 0s - loss: 0.0709 - acc: 0.9817 - mcc: 0.9637 - ppv: 0.9699 - tpr: 0.9942 \n",
            "Epoch 00015: val_tpr did not improve from 0.95520\n",
            "11/11 [==============================] - 439s 40s/step - loss: 0.0709 - acc: 0.9817 - mcc: 0.9637 - ppv: 0.9699 - tpr: 0.9942 - val_loss: 0.3961 - val_acc: 0.9067 - val_mcc: 0.8219 - val_ppv: 0.9347 - val_tpr: 0.8682\n",
            "Epoch 16/20\n",
            "11/11 [==============================] - ETA: 0s - loss: 0.0750 - acc: 0.9796 - mcc: 0.9596 - ppv: 0.9664 - tpr: 0.9936 \n",
            "Epoch 00016: val_tpr did not improve from 0.95520\n",
            "11/11 [==============================] - 434s 39s/step - loss: 0.0750 - acc: 0.9796 - mcc: 0.9596 - ppv: 0.9664 - tpr: 0.9936 - val_loss: 0.2514 - val_acc: 0.9400 - val_mcc: 0.8633 - val_ppv: 0.9587 - val_tpr: 0.9136\n",
            "Epoch 17/20\n",
            "11/11 [==============================] - ETA: 0s - loss: 0.0649 - acc: 0.9830 - mcc: 0.9673 - ppv: 0.9708 - tpr: 0.9969 \n",
            "Epoch 00017: val_tpr did not improve from 0.95520\n",
            "11/11 [==============================] - 423s 38s/step - loss: 0.0649 - acc: 0.9830 - mcc: 0.9673 - ppv: 0.9708 - tpr: 0.9969 - val_loss: 0.3992 - val_acc: 0.9100 - val_mcc: 0.7982 - val_ppv: 0.9817 - val_tpr: 0.8215\n",
            "Epoch 18/20\n",
            "11/11 [==============================] - ETA: 0s - loss: 0.0608 - acc: 0.9831 - mcc: 0.9650 - ppv: 0.9728 - tpr: 0.9927 \n",
            "Epoch 00018: val_tpr did not improve from 0.95520\n",
            "11/11 [==============================] - 423s 38s/step - loss: 0.0608 - acc: 0.9831 - mcc: 0.9650 - ppv: 0.9728 - tpr: 0.9927 - val_loss: 0.3330 - val_acc: 0.9200 - val_mcc: 0.8629 - val_ppv: 0.9769 - val_tpr: 0.8772\n",
            "Epoch 19/20\n",
            "11/11 [==============================] - ETA: 0s - loss: 0.0782 - acc: 0.9789 - mcc: 0.9583 - ppv: 0.9636 - tpr: 0.9955 \n",
            "Epoch 00019: val_tpr did not improve from 0.95520\n",
            "11/11 [==============================] - 416s 37s/step - loss: 0.0782 - acc: 0.9789 - mcc: 0.9583 - ppv: 0.9636 - tpr: 0.9955 - val_loss: 0.5736 - val_acc: 0.8883 - val_mcc: 0.7995 - val_ppv: 0.9847 - val_tpr: 0.8008\n",
            "Epoch 20/20\n",
            "11/11 [==============================] - ETA: 0s - loss: 0.0669 - acc: 0.9813 - mcc: 0.9617 - ppv: 0.9697 - tpr: 0.9926 \n",
            "Epoch 00020: val_tpr did not improve from 0.95520\n",
            "11/11 [==============================] - 404s 36s/step - loss: 0.0669 - acc: 0.9813 - mcc: 0.9617 - ppv: 0.9697 - tpr: 0.9926 - val_loss: 0.3200 - val_acc: 0.9383 - val_mcc: 0.8928 - val_ppv: 0.9957 - val_tpr: 0.8857\n"
          ]
        }
      ],
      "source": [
        "history = model.fit(\n",
        "    ProLigSequence(raw_training_train_data, batch_size=512, max_dist=40, grid_resolution=4, sparse=False),\n",
        "    validation_data=ProLigSequence(raw_training_test_data, batch_size=512, max_dist=40, grid_resolution=4, sparse=False),\n",
        "    epochs=20,\n",
        "    initial_epoch=0,\n",
        "    use_multiprocessing=True,\n",
        "    workers=8,\n",
        "    callbacks=[ModelCheckpoint('/content/drive/MyDrive/BS6207/project/best_model_val_tpr.h5',\n",
        "                           monitor='val_tpr',\n",
        "                           verbose=1,\n",
        "                           save_best_only=True,\n",
        "                           mode='max')])"
      ]
    },
    {
      "cell_type": "code",
      "execution_count": null,
      "metadata": {
        "colab": {
          "background_save": true
        },
        "id": "v4YuzoKmQdXl",
        "outputId": "b439605d-959b-4ff1-a558-1edd50c5de61"
      },
      "outputs": [
        {
          "name": "stdout",
          "output_type": "stream",
          "text": [
            "Epoch 1/20\n",
            "11/11 [==============================] - ETA: 0s - loss: 0.0508 - acc: 0.9846 - mcc: 0.9688 - ppv: 0.9729 - tpr: 0.9962 \n",
            "Epoch 00001: val_mcc improved from -inf to 0.87419, saving model to /content/drive/MyDrive/BS6207/project/best_model_val_mcc.h5\n"
          ]
        },
        {
          "name": "stderr",
          "output_type": "stream",
          "text": [
            "/usr/local/lib/python3.7/dist-packages/keras/engine/functional.py:1410: CustomMaskWarning: Custom mask layers require a config and must override get_config. When loading, the custom mask layer must be passed to the custom_objects argument.\n",
            "  layer_config = serialize_layer_fn(layer)\n"
          ]
        },
        {
          "name": "stdout",
          "output_type": "stream",
          "text": [
            "11/11 [==============================] - 407s 37s/step - loss: 0.0508 - acc: 0.9846 - mcc: 0.9688 - ppv: 0.9729 - tpr: 0.9962 - val_loss: 0.3265 - val_acc: 0.9433 - val_mcc: 0.8742 - val_ppv: 0.9873 - val_tpr: 0.8867\n",
            "Epoch 2/20\n",
            "11/11 [==============================] - ETA: 0s - loss: 0.0720 - acc: 0.9800 - mcc: 0.9594 - ppv: 0.9684 - tpr: 0.9913 \n",
            "Epoch 00002: val_mcc improved from 0.87419 to 0.92177, saving model to /content/drive/MyDrive/BS6207/project/best_model_val_mcc.h5\n",
            "11/11 [==============================] - 404s 38s/step - loss: 0.0720 - acc: 0.9800 - mcc: 0.9594 - ppv: 0.9684 - tpr: 0.9913 - val_loss: 0.2291 - val_acc: 0.9567 - val_mcc: 0.9218 - val_ppv: 0.9787 - val_tpr: 0.9402\n",
            "Epoch 3/20\n",
            "11/11 [==============================] - ETA: 0s - loss: 0.0580 - acc: 0.9850 - mcc: 0.9706 - ppv: 0.9743 - tpr: 0.9969 \n",
            "Epoch 00003: val_mcc did not improve from 0.92177\n",
            "11/11 [==============================] - 408s 37s/step - loss: 0.0580 - acc: 0.9850 - mcc: 0.9706 - ppv: 0.9743 - tpr: 0.9969 - val_loss: 0.2045 - val_acc: 0.9467 - val_mcc: 0.9094 - val_ppv: 0.9503 - val_tpr: 0.9593\n",
            "Epoch 4/20\n",
            "11/11 [==============================] - ETA: 0s - loss: 0.0578 - acc: 0.9848 - mcc: 0.9693 - ppv: 0.9776 - tpr: 0.9919 \n",
            "Epoch 00004: val_mcc did not improve from 0.92177\n",
            "11/11 [==============================] - 421s 38s/step - loss: 0.0578 - acc: 0.9848 - mcc: 0.9693 - ppv: 0.9776 - tpr: 0.9919 - val_loss: 0.2472 - val_acc: 0.9350 - val_mcc: 0.8884 - val_ppv: 0.9787 - val_tpr: 0.9100\n",
            "Epoch 5/20\n",
            "11/11 [==============================] - ETA: 0s - loss: 0.0526 - acc: 0.9854 - mcc: 0.9707 - ppv: 0.9784 - tpr: 0.9926 \n",
            "Epoch 00005: val_mcc did not improve from 0.92177\n",
            "11/11 [==============================] - 423s 38s/step - loss: 0.0526 - acc: 0.9854 - mcc: 0.9707 - ppv: 0.9784 - tpr: 0.9926 - val_loss: 0.3150 - val_acc: 0.9267 - val_mcc: 0.8585 - val_ppv: 0.9527 - val_tpr: 0.9061\n",
            "Epoch 6/20\n",
            "11/11 [==============================] - ETA: 0s - loss: 0.0633 - acc: 0.9830 - mcc: 0.9665 - ppv: 0.9718 - tpr: 0.9948 \n",
            "Epoch 00006: val_mcc did not improve from 0.92177\n",
            "11/11 [==============================] - 424s 38s/step - loss: 0.0633 - acc: 0.9830 - mcc: 0.9665 - ppv: 0.9718 - tpr: 0.9948 - val_loss: 0.1948 - val_acc: 0.9533 - val_mcc: 0.8899 - val_ppv: 0.9164 - val_tpr: 0.9675\n",
            "Epoch 7/20\n",
            "11/11 [==============================] - ETA: 0s - loss: 0.0698 - acc: 0.9817 - mcc: 0.9625 - ppv: 0.9725 - tpr: 0.9905 \n",
            "Epoch 00007: val_mcc did not improve from 0.92177\n",
            "11/11 [==============================] - 412s 37s/step - loss: 0.0698 - acc: 0.9817 - mcc: 0.9625 - ppv: 0.9725 - tpr: 0.9905 - val_loss: 0.2540 - val_acc: 0.9417 - val_mcc: 0.8755 - val_ppv: 0.9239 - val_tpr: 0.9566\n",
            "Epoch 8/20\n",
            "11/11 [==============================] - ETA: 0s - loss: 0.0686 - acc: 0.9820 - mcc: 0.9641 - ppv: 0.9692 - tpr: 0.9955 \n",
            "Epoch 00008: val_mcc did not improve from 0.92177\n",
            "11/11 [==============================] - 432s 39s/step - loss: 0.0686 - acc: 0.9820 - mcc: 0.9641 - ppv: 0.9692 - tpr: 0.9955 - val_loss: 0.2704 - val_acc: 0.9400 - val_mcc: 0.8586 - val_ppv: 0.9621 - val_tpr: 0.8973\n",
            "Epoch 9/20\n",
            "11/11 [==============================] - ETA: 0s - loss: 0.0602 - acc: 0.9806 - mcc: 0.9607 - ppv: 0.9696 - tpr: 0.9913 \n",
            "Epoch 00009: val_mcc did not improve from 0.92177\n",
            "11/11 [==============================] - 416s 37s/step - loss: 0.0602 - acc: 0.9806 - mcc: 0.9607 - ppv: 0.9696 - tpr: 0.9913 - val_loss: 0.2948 - val_acc: 0.9383 - val_mcc: 0.8785 - val_ppv: 0.9385 - val_tpr: 0.9519\n",
            "Epoch 10/20\n",
            "11/11 [==============================] - ETA: 0s - loss: 0.0611 - acc: 0.9835 - mcc: 0.9677 - ppv: 0.9733 - tpr: 0.9949 \n",
            "Epoch 00010: val_mcc did not improve from 0.92177\n",
            "11/11 [==============================] - 424s 38s/step - loss: 0.0611 - acc: 0.9835 - mcc: 0.9677 - ppv: 0.9733 - tpr: 0.9949 - val_loss: 0.2083 - val_acc: 0.9383 - val_mcc: 0.9099 - val_ppv: 0.9776 - val_tpr: 0.9297\n",
            "Epoch 11/20\n",
            "11/11 [==============================] - ETA: 0s - loss: 0.0593 - acc: 0.9820 - mcc: 0.9650 - ppv: 0.9722 - tpr: 0.9931 \n",
            "Epoch 00011: val_mcc did not improve from 0.92177\n",
            "11/11 [==============================] - 409s 37s/step - loss: 0.0593 - acc: 0.9820 - mcc: 0.9650 - ppv: 0.9722 - tpr: 0.9931 - val_loss: 0.3050 - val_acc: 0.9333 - val_mcc: 0.8656 - val_ppv: 0.9390 - val_tpr: 0.9243\n",
            "Epoch 12/20\n",
            "11/11 [==============================] - ETA: 0s - loss: 0.0570 - acc: 0.9848 - mcc: 0.9693 - ppv: 0.9758 - tpr: 0.9937 \n",
            "Epoch 00012: val_mcc did not improve from 0.92177\n",
            "11/11 [==============================] - 419s 38s/step - loss: 0.0570 - acc: 0.9848 - mcc: 0.9693 - ppv: 0.9758 - tpr: 0.9937 - val_loss: 0.5890 - val_acc: 0.9100 - val_mcc: 0.8362 - val_ppv: 0.9910 - val_tpr: 0.8258\n",
            "Epoch 13/20\n",
            "11/11 [==============================] - ETA: 0s - loss: 0.0556 - acc: 0.9872 - mcc: 0.9747 - ppv: 0.9789 - tpr: 0.9961 \n",
            "Epoch 00013: val_mcc did not improve from 0.92177\n",
            "11/11 [==============================] - 411s 37s/step - loss: 0.0556 - acc: 0.9872 - mcc: 0.9747 - ppv: 0.9789 - tpr: 0.9961 - val_loss: 0.5129 - val_acc: 0.9150 - val_mcc: 0.8406 - val_ppv: 0.9790 - val_tpr: 0.8462\n",
            "Epoch 14/20\n",
            "11/11 [==============================] - ETA: 0s - loss: 0.0516 - acc: 0.9848 - mcc: 0.9699 - ppv: 0.9762 - tpr: 0.9940 \n",
            "Epoch 00014: val_mcc did not improve from 0.92177\n",
            "11/11 [==============================] - 419s 40s/step - loss: 0.0516 - acc: 0.9848 - mcc: 0.9699 - ppv: 0.9762 - tpr: 0.9940 - val_loss: 0.3777 - val_acc: 0.9400 - val_mcc: 0.8829 - val_ppv: 0.9661 - val_tpr: 0.9085\n",
            "Epoch 15/20\n",
            "11/11 [==============================] - ETA: 0s - loss: 0.0518 - acc: 0.9850 - mcc: 0.9705 - ppv: 0.9756 - tpr: 0.9952 \n",
            "Epoch 00015: val_mcc did not improve from 0.92177\n",
            "11/11 [==============================] - 396s 36s/step - loss: 0.0518 - acc: 0.9850 - mcc: 0.9705 - ppv: 0.9756 - tpr: 0.9952 - val_loss: 0.7508 - val_acc: 0.8700 - val_mcc: 0.7789 - val_ppv: 0.9852 - val_tpr: 0.7663\n",
            "Epoch 16/20\n",
            "11/11 [==============================] - ETA: 0s - loss: 0.0555 - acc: 0.9854 - mcc: 0.9712 - ppv: 0.9763 - tpr: 0.9951 \n",
            "Epoch 00016: val_mcc did not improve from 0.92177\n",
            "11/11 [==============================] - 417s 38s/step - loss: 0.0555 - acc: 0.9854 - mcc: 0.9712 - ppv: 0.9763 - tpr: 0.9951 - val_loss: 0.3459 - val_acc: 0.9383 - val_mcc: 0.9118 - val_ppv: 0.9913 - val_tpr: 0.9161\n",
            "Epoch 17/20\n",
            "11/11 [==============================] - ETA: 0s - loss: 0.0509 - acc: 0.9859 - mcc: 0.9715 - ppv: 0.9754 - tpr: 0.9962 \n",
            "Epoch 00017: val_mcc did not improve from 0.92177\n",
            "11/11 [==============================] - 418s 39s/step - loss: 0.0509 - acc: 0.9859 - mcc: 0.9715 - ppv: 0.9754 - tpr: 0.9962 - val_loss: 0.3895 - val_acc: 0.9300 - val_mcc: 0.8539 - val_ppv: 0.9515 - val_tpr: 0.8971\n",
            "Epoch 18/20\n",
            "11/11 [==============================] - ETA: 0s - loss: 0.0581 - acc: 0.9848 - mcc: 0.9696 - ppv: 0.9769 - tpr: 0.9927 \n",
            "Epoch 00018: val_mcc did not improve from 0.92177\n",
            "11/11 [==============================] - 403s 36s/step - loss: 0.0581 - acc: 0.9848 - mcc: 0.9696 - ppv: 0.9769 - tpr: 0.9927 - val_loss: 0.2318 - val_acc: 0.9467 - val_mcc: 0.8907 - val_ppv: 0.9562 - val_tpr: 0.9320\n",
            "Epoch 19/20\n",
            "11/11 [==============================] - ETA: 0s - loss: 0.0567 - acc: 0.9867 - mcc: 0.9737 - ppv: 0.9784 - tpr: 0.9955 \n",
            "Epoch 00019: val_mcc did not improve from 0.92177\n",
            "11/11 [==============================] - 415s 37s/step - loss: 0.0567 - acc: 0.9867 - mcc: 0.9737 - ppv: 0.9784 - tpr: 0.9955 - val_loss: 0.2390 - val_acc: 0.9483 - val_mcc: 0.8860 - val_ppv: 0.9812 - val_tpr: 0.9002\n",
            "Epoch 20/20\n",
            "11/11 [==============================] - ETA: 0s - loss: 0.0510 - acc: 0.9852 - mcc: 0.9707 - ppv: 0.9762 - tpr: 0.9947 \n",
            "Epoch 00020: val_mcc did not improve from 0.92177\n",
            "11/11 [==============================] - 421s 38s/step - loss: 0.0510 - acc: 0.9852 - mcc: 0.9707 - ppv: 0.9762 - tpr: 0.9947 - val_loss: 0.3177 - val_acc: 0.9500 - val_mcc: 0.9055 - val_ppv: 0.9918 - val_tpr: 0.9054\n"
          ]
        }
      ],
      "source": [
        "# The Matthews correlation coefficient (MCC) is more reliable than balanced accuracy, bookmaker informedness, and markedness in two-class confusion matrix evaluation\n",
        "# https://www.ncbi.nlm.nih.gov/pmc/articles/PMC7863449/\n",
        "\n",
        "history = model.fit(\n",
        "    ProLigSequence(raw_training_train_data, batch_size=512, max_dist=40, grid_resolution=4, sparse=False),\n",
        "    validation_data=ProLigSequence(raw_training_test_data, batch_size=512, max_dist=40, grid_resolution=4, sparse=False),\n",
        "    epochs=20,\n",
        "    initial_epoch=0,\n",
        "    use_multiprocessing=True,\n",
        "    workers=8,\n",
        "    callbacks=[ModelCheckpoint('/content/drive/MyDrive/BS6207/project/best_model_val_mcc.h5',\n",
        "                           monitor='val_mcc',\n",
        "                           verbose=1,\n",
        "                           save_best_only=True,\n",
        "                           mode='max')])"
      ]
    },
    {
      "cell_type": "code",
      "execution_count": null,
      "metadata": {
        "id": "TN2qGZ0tQd4s"
      },
      "outputs": [],
      "source": [
        "history = model.fit(\n",
        "    ProLigSequence(raw_training_train_data, batch_size=512, max_dist=40, grid_resolution=4, sparse=False),\n",
        "    validation_data=ProLigSequence(raw_training_test_data, batch_size=512, max_dist=40, grid_resolution=4, sparse=False),\n",
        "    epochs=20,\n",
        "    initial_epoch=0,\n",
        "    use_multiprocessing=True,\n",
        "    workers=8,\n",
        "    callbacks=[ModelCheckpoint('/content/drive/MyDrive/BS6207/project/best_model_val_ppv.h5',\n",
        "                           monitor='val_ppv',\n",
        "                           verbose=1,\n",
        "                           save_best_only=True,\n",
        "                           mode='max')])"
      ]
    },
    {
      "cell_type": "markdown",
      "metadata": {
        "id": "ER_DyjMwODxW"
      },
      "source": [
        "# Evaluate Model"
      ]
    },
    {
      "cell_type": "markdown",
      "metadata": {
        "id": "jJFecNvcOMl9"
      },
      "source": [
        "## Generate testing data"
      ]
    },
    {
      "cell_type": "code",
      "execution_count": null,
      "metadata": {
        "colab": {
          "base_uri": "https://localhost:8080/"
        },
        "id": "Eys8z1J_id8r",
        "outputId": "6a547e11-f19d-4407-895b-4192376904ad"
      },
      "outputs": [
        {
          "data": {
            "text/plain": [
              "2"
            ]
          },
          "execution_count": 46,
          "metadata": {},
          "output_type": "execute_result"
        }
      ],
      "source": [
        "len(raw_training_test_data)"
      ]
    },
    {
      "cell_type": "code",
      "execution_count": null,
      "metadata": {
        "colab": {
          "base_uri": "https://localhost:8080/"
        },
        "id": "dL_1otRr6EIM",
        "outputId": "1d0bba98-10ab-4dd8-804c-adad9e7064f3"
      },
      "outputs": [
        {
          "name": "stderr",
          "output_type": "stream",
          "text": [
            "100%|██████████| 300/300 [00:04<00:00, 63.40it/s]\n"
          ]
        }
      ],
      "source": [
        "x_test, y_test = generate_training_data(raw_training_test_data, neg_ratio=0, max_dist=40, grid_resolution=4)\n",
        "x_test = x_test.todense()"
      ]
    },
    {
      "cell_type": "markdown",
      "metadata": {
        "id": "nCqKAJYmOOxS"
      },
      "source": [
        "## Load best model"
      ]
    },
    {
      "cell_type": "code",
      "execution_count": null,
      "metadata": {
        "id": "qkaA2FDj6yPX"
      },
      "outputs": [],
      "source": [
        "dependencies = {'mcc':mcc, 'ppv':ppv, 'tpr':tpr}\n",
        "best_model = load_model(\"Dynamic.h5\", custom_objects=dependencies)"
      ]
    },
    {
      "cell_type": "markdown",
      "metadata": {
        "id": "hjhx8ujdOTtq"
      },
      "source": [
        "## Plot confusion matrix"
      ]
    },
    {
      "cell_type": "code",
      "execution_count": null,
      "metadata": {
        "colab": {
          "base_uri": "https://localhost:8080/",
          "height": 384
        },
        "id": "zTMoaV6o6H00",
        "outputId": "a4d7fbfe-20d9-4352-a488-414e2280a28f"
      },
      "outputs": [
        {
          "name": "stderr",
          "output_type": "stream",
          "text": [
            "/usr/local/lib/python3.7/dist-packages/ipykernel_launcher.py:10: RuntimeWarning: invalid value encountered in true_divide\n",
            "  # Remove the CWD from sys.path while we load stuff.\n"
          ]
        },
        {
          "name": "stdout",
          "output_type": "stream",
          "text": [
            "Normalized confusion matrix\n",
            "[[ nan  nan]\n",
            " [0.04 0.96]]\n"
          ]
        },
        {
          "data": {
            "image/png": "[encoded data removed]",
            "text/plain": [
              "<Figure size 432x288 with 2 Axes>"
            ]
          },
          "metadata": {},
          "output_type": "display_data"
        }
      ],
      "source": [
        "y_pred = best_model.predict(x_test)\n",
        "y_pred = np.piecewise(y_pred, [y_pred < 0.5, y_pred >= 0.5], [0., 1.])\n",
        "cnf_matrix = confusion_matrix(y_test, y_pred)\n",
        "plt.figure()\n",
        "plot_confusion_matrix(cnf_matrix, classes=[0, 1], normalize=True,\n",
        "                      title='Normalized confusion matrix')"
      ]
    },
    {
      "cell_type": "code",
      "execution_count": null,
      "metadata": {
        "colab": {
          "base_uri": "https://localhost:8080/"
        },
        "id": "7kUuwqv-kXNz",
        "outputId": "f5fe2cec-c52b-4e4f-da50-6674fbfe3d9f"
      },
      "outputs": [
        {
          "data": {
            "text/plain": [
              "(21, 21, 21, 2)"
            ]
          },
          "execution_count": 37,
          "metadata": {},
          "output_type": "execute_result"
        }
      ],
      "source": [
        "x_test[0].shape"
      ]
    },
    {
      "cell_type": "code",
      "execution_count": null,
      "metadata": {
        "id": "i8GLcW0zkxat"
      },
      "outputs": [],
      "source": [
        "results = best_model.predict(x_test)\n",
        "results"
      ]
    },
    {
      "cell_type": "code",
      "execution_count": null,
      "metadata": {
        "colab": {
          "base_uri": "https://localhost:8080/"
        },
        "id": "oCmKq5GgsxXT",
        "outputId": "b8e1180d-e0cb-42dd-f6e0-2a3d8787e005"
      },
      "outputs": [
        {
          "data": {
            "text/plain": [
              "(300, 21, 21, 21, 2)"
            ]
          },
          "execution_count": 39,
          "metadata": {},
          "output_type": "execute_result"
        }
      ],
      "source": [
        "x_test.shape"
      ]
    },
    {
      "cell_type": "code",
      "execution_count": null,
      "metadata": {
        "colab": {
          "base_uri": "https://localhost:8080/"
        },
        "id": "1Is-uT-AnWSU",
        "outputId": "b08c2860-e374-4b70-bd40-961dcd3fe62e"
      },
      "outputs": [
        {
          "data": {
            "text/plain": [
              "(300,)"
            ]
          },
          "execution_count": 41,
          "metadata": {},
          "output_type": "execute_result"
        }
      ],
      "source": [
        "results.flatten().shape"
      ]
    },
    {
      "cell_type": "code",
      "execution_count": null,
      "metadata": {
        "colab": {
          "background_save": true
        },
        "id": "F84ALW0jogmm"
      },
      "outputs": [],
      "source": [
        "(-results.flatten()).argsort()[:10]"
      ]
    },
    {
      "cell_type": "code",
      "execution_count": null,
      "metadata": {
        "colab": {
          "background_save": true
        },
        "id": "qAfX8fJGnD8T"
      },
      "outputs": [],
      "source": [
        ""
      ]
    },
    {
      "cell_type": "code",
      "execution_count": null,
      "metadata": {
        "colab": {
          "background_save": true
        },
        "id": "0uvH-e4JnSGg"
      },
      "outputs": [],
      "source": [
        "results"
      ]
    },
    {
      "cell_type": "code",
      "execution_count": null,
      "metadata": {
        "colab": {
          "background_save": true
        },
        "id": "08l-ya6npgKK"
      },
      "outputs": [],
      "source": [
        "results"
      ]
    },
    {
      "cell_type": "code",
      "execution_count": null,
      "metadata": {
        "colab": {
          "base_uri": "https://localhost:8080/"
        },
        "id": "SvZCSxvzjg1D",
        "outputId": "2d14d8fa-b82e-4449-dbfd-71825e0909a4"
      },
      "outputs": [
        {
          "name": "stdout",
          "output_type": "stream",
          "text": [
            "824\n"
          ]
        }
      ],
      "source": [
        "!ls \"/content/project/testing_data_release/testing_data\" | grep pro | wc -l"
      ]
    },
    {
      "cell_type": "code",
      "execution_count": null,
      "metadata": {
        "colab": {
          "base_uri": "https://localhost:8080/"
        },
        "id": "QBXBu27qkwbw",
        "outputId": "f5dd02a5-1f0f-4d1f-daeb-6115d62c2ef9"
      },
      "outputs": [
        {
          "data": {
            "text/plain": [
              "array([['23.732', '52.847', '19.409', 'h'],\n",
              "       ['23.481', '52.752', '17.931', 'h'],\n",
              "       ['21.672', '50.355', '21.44', 'h'],\n",
              "       ...,\n",
              "       ['21.096', '24.697', '16.259', 'h'],\n",
              "       ['20.265', '23.921', '15.241', 'h'],\n",
              "       ['17.965', '21.322', '16.768', 'h']], dtype='<U6')"
            ]
          },
          "execution_count": 52,
          "metadata": {},
          "output_type": "execute_result"
        }
      ],
      "source": [
        "read_test_pdb(\"project/testing_data_release/testing_data/{:04d}_pro_cg.pdb\".format(pro_idx + 1))"
      ]
    },
    {
      "cell_type": "code",
      "execution_count": null,
      "metadata": {
        "colab": {
          "base_uri": "https://localhost:8080/"
        },
        "id": "ma4N903KqK6i",
        "outputId": "429d9c12-d432-43fb-d8e0-235201742774"
      },
      "outputs": [
        {
          "name": "stderr",
          "output_type": "stream",
          "text": [
            "100%|██████████| 10/10 [04:49<00:00, 28.91s/it]\n"
          ]
        }
      ],
      "source": [
        "results_list = []\n",
        "for pro_idx in trange(10):\n",
        "  raw_testing_data = {\n",
        "    'pro': [],\n",
        "    'lig': []\n",
        "  }\n",
        "  for lig_idx in range(824):\n",
        "    raw_testing_data['pro'].append(\n",
        "        read_test_pdb(\"project/testing_data_release/testing_data/{:04d}_pro_cg.pdb\".format(pro_idx + 1)))\n",
        "    raw_testing_data['lig'].append(\n",
        "        read_test_pdb(\"project/testing_data_release/testing_data/{:04d}_lig_cg.pdb\".format(lig_idx + 1)))\n",
        "  x_test, y_test = generate_training_data(raw_testing_data, neg_ratio=0, max_dist=40, grid_resolution=4, quiet = True)\n",
        "  x_test = x_test.todense()\n",
        "  results = best_model.predict(x_test)\n",
        "  ranks = np.argpartition(results.flatten(), 10)[:10]\n",
        "  results_list.append(ranks)"
      ]
    },
    {
      "cell_type": "code",
      "execution_count": null,
      "metadata": {
        "colab": {
          "base_uri": "https://localhost:8080/"
        },
        "id": "ZE7vzgl8qNRA",
        "outputId": "75a6bedc-4883-4e35-b725-bd187860127a"
      },
      "outputs": [
        {
          "data": {
            "text/plain": [
              "[array([221, 736, 230,  49, 623, 241,  95, 134, 407, 331]),\n",
              " array([226, 553, 655, 457, 359, 595,  11,  67, 503, 250]),\n",
              " array([761, 639, 562,  82, 638, 626, 340, 434, 739, 520]),\n",
              " array([248, 602, 667, 102, 757, 719, 276, 718, 779, 341]),\n",
              " array([790, 292, 817, 658, 589, 707,  91,   7, 327, 644]),\n",
              " array([230, 747, 163, 562, 206, 639, 649, 434, 209, 769]),\n",
              " array([648, 600, 799, 326, 388,  15, 738, 149, 437, 210]),\n",
              " array([670, 423,  59, 377, 448, 733,  87, 143, 210,  15]),\n",
              " array([354, 733, 725,  55, 154, 305, 653, 330, 322, 355]),\n",
              " array([ 13, 333, 325, 318, 317, 402,  76, 788, 166, 125])]"
            ]
          },
          "execution_count": 96,
          "metadata": {},
          "output_type": "execute_result"
        }
      ],
      "source": [
        "results_list"
      ]
    },
    {
      "cell_type": "code",
      "execution_count": null,
      "metadata": {
        "id": "Qr6_X7Yiv7DD"
      },
      "outputs": [],
      "source": [
        "results_list = []\n",
        "for pro_idx in trange(824):\n",
        "  raw_testing_data = {\n",
        "    'pro': [],\n",
        "    'lig': []\n",
        "  }\n",
        "  for lig_idx in range(824):\n",
        "    raw_testing_data['pro'].append(\n",
        "        read_test_pdb(\"project/testing_data_release/testing_data/{:04d}_pro_cg.pdb\".format(pro_idx + 1)))\n",
        "    raw_testing_data['lig'].append(\n",
        "        read_test_pdb(\"project/testing_data_release/testing_data/{:04d}_lig_cg.pdb\".format(lig_idx + 1)))\n",
        "  x_test, y_test = generate_training_data(raw_testing_data, neg_ratio=0, max_dist=40, grid_resolution=4, quiet = True)\n",
        "  x_test = x_test.todense()\n",
        "  results = best_model.predict(x_test)\n",
        "  ranks = np.argpartition(results.flatten(), 10)[:10]\n",
        "  results_list.append(ranks)"
      ]
    },
    {
      "cell_type": "code",
      "source": [
        "num = 1\n",
        "with open('predictions.txt','w+') as f:\n",
        "  f.write('pro_id\tlig1_id\tlig2_id\tlig3_id\tlig4_id\tlig5_id\tlig6_id\tlig7_id\tlig8_id\tlig9_id\tlig10_id\\n')\n",
        "  for ranks in rank_list:\n",
        "    f.write(str(num))\n",
        "    for rank in ranks:\n",
        "      f.write('\\t'+str(rank))\n",
        "    f.write('\\n')\n",
        "    num+=1"
      ],
      "metadata": {
        "id": "PvG-huUTDslG"
      },
      "execution_count": null,
      "outputs": []
    },
    {
      "cell_type": "code",
      "execution_count": null,
      "metadata": {
        "id": "L7hvxMs0MwQ-"
      },
      "outputs": [],
      "source": [
        "while True: time.sleep(10000)"
      ]
    },
    {
      "cell_type": "code",
      "execution_count": null,
      "metadata": {
        "id": "SLXtcS4Ekn1A"
      },
      "outputs": [],
      "source": [
        ""
      ]
    }
  ],
  "metadata": {
    "accelerator": "TPU",
    "colab": {
      "background_execution": "on",
      "collapsed_sections": [],
      "name": "DeepPL.ipynb",
      "provenance": []
    },
    "kernelspec": {
      "display_name": "Python 3",
      "name": "python3"
    }
  },
  "nbformat": 4,
  "nbformat_minor": 0
}